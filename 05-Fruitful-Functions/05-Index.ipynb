{
 "cells": [
  {
   "cell_type": "markdown",
   "metadata": {},
   "source": [
    "# Think Python, Week 5: Fruitful Functions\n",
    "\n",
    "<img src='../meta/images/python-logo.png' style=\"float:right\">\n",
    "\n",
    "## Objectives\n",
    "---\n",
    "\n",
    "* Understand returning values from functions\n",
    "    * Including boolean functions\n",
    "* Explore incremental development\n",
    "* Testing argument types in a function"
   ]
  },
  {
   "cell_type": "markdown",
   "metadata": {},
   "source": [
    "## Questions from Last Week's Reading\n",
    "---\n"
   ]
  },
  {
   "cell_type": "markdown",
   "metadata": {},
   "source": [
    "## Incremental Development\n",
    "\n",
    "* A simple development process:\n",
    "    * Decompose your problem into separate pieces based on functionality and required information\n",
    "    * Build and test the smallest pieces first\n",
    "    * Choose function names that increase understanding\n",
    "* Art: plan for generality and re-use\n",
    "    * Example: a function that takes a parameter is easier to re-use than one that hard-wires values internally\n",
    "    * Minimize input assumptions"
   ]
  },
  {
   "cell_type": "markdown",
   "metadata": {},
   "source": [
    "## Last Week's Homework\n",
    "---\n",
    "\n",
    "* Write a function that takes the name of any month and the date of the first Sunday, and prints out the dates of all the Sundays for that month. \n",
    "    * `sundays(\"February\", 3)` should print out 3, 10, 17 24\n",
    "    * Hint: \"30 days has September, April, June ...\". Don't worry about leap years. \n",
    "\n",
    "[My solution](#My-Solution)"
   ]
  },
  {
   "cell_type": "markdown",
   "metadata": {},
   "source": [
    "### Return Values\n",
    "\n",
    "* Every function returns a value (default=`None`)\n",
    "* You can have multiple return statements (but only the first will get executed)"
   ]
  },
  {
   "cell_type": "markdown",
   "metadata": {},
   "source": [
    "### Exercise 05-1: `compare()`\n",
    "\n",
    "Write a compare function that takes two values, x and y, and returns \n",
    "\n",
    "* 1 if x is greater than y\n",
    "* 0 if x is equal to y\n",
    "* -1 if x is less than y.\n",
    "\n",
    "![Pulse Check](../meta/images/pulse-check.png)"
   ]
  },
  {
   "cell_type": "code",
   "execution_count": 45,
   "metadata": {},
   "outputs": [
    {
     "data": {
      "text/plain": [
       "-1"
      ]
     },
     "execution_count": 45,
     "metadata": {},
     "output_type": "execute_result"
    }
   ],
   "source": [
    "# Python has a built-in function cmp() which does this\n",
    "def compare(x, y):\n",
    "    if x > y:\n",
    "        return 1\n",
    "    elif x == y:\n",
    "        return 0\n",
    "    elif x < y:\n",
    "        return -1\n",
    "\n",
    "compare(2, 3)"
   ]
  },
  {
   "cell_type": "markdown",
   "metadata": {},
   "source": [
    "## Data Structures: URLs\n",
    "---\n",
    "\n",
    "* One of the most important data schemes of recent decades\n",
    "* 'Just' a string, but *structured*\n",
    "* URL = Uniform Resource Locator ([Wikipedia: Uniform resource locator](https://en.wikipedia.org/wiki/Uniform_resource_locator))\n",
    "* Make others' lives easier by using URLs to enrich your communications "
   ]
  },
  {
   "cell_type": "markdown",
   "metadata": {},
   "source": [
    "### The Anatomy of a URL\n",
    "\n",
    "<img src='../meta/images/URL-anatomy.png' />\n",
    "\n",
    "\n",
    "(Hat tip: https://moz.com/blog/seo-cheat-sheet-anatomy-of-a-url)\n",
    "\n",
    "* Specific syntax for constructing a valid URL\n",
    "* More general elements on the left, more detailed elements on the right\n",
    "* Some elements have a limited set of values\n",
    "  * Other protocols: ftp, mailto, news, file\n",
    "  * Limited set of Top-Level Domains (TLDs)\n",
    "* Some characters are special: `:`, `/`, `?`, `#`, `[]`, `@`\n",
    "  * These and non-ASCII characters need special encoding\n",
    "\n",
    "Other examples:\n",
    "\n",
    "* https://www.linkedin.com/in/seanboisen\n",
    "* https://businessdesk/Users/Edit.aspx?UserID=149006 (that's my civilian Faithlife identity)\n",
    "* https://www.amazon.com/Think-Python-Like-Computer-Scientist/dp/1491939362 (1491939362 is the ISBN-10 identifier)\n",
    "* Same ISBN on Goodreads: https://www.goodreads.com/book/isbn?isbn=1491939362\n",
    "\n",
    "* New Bible Dictionary product page: https://www.logos.com/product/310/the-new-bible-dictionary-third-edition\n",
    "* In BusinessDesk (via SKU): https://businessdesk/Products/EditProduct.aspx?ProductId=310\n",
    "* In BusinessDesk (via resource ID): https://businessdesk/Products/Tokens/Libronix/Details.aspx?ProductToken=LLS%3a14.0.1\n",
    "* In Library Manager (via resource ID): https://librarymanager.lrscorp.net/metadata/LLS%3a14.0.1"
   ]
  },
  {
   "cell_type": "markdown",
   "metadata": {},
   "source": [
    "### Exercise 05-2: `makeURL()`\n",
    "\n",
    "Write a function that constructs a URL given the elements above. \n",
    "\n",
    "* Assume the protocol is always `https`\n",
    "* Ignore `parameter` and `named anchor` for this exercise. \n",
    "* Don't forget to handle subdomains (whether empty or provided). \n",
    "\n",
    "```\n",
    ">>> makeURL(subdomain=\"music\", root_domain=\"faithlife\", tld=\"com\", path=\"\", page=\"\")\n",
    "'https://music.faithlife.com'\n",
    "\n",
    ">>> makeURL(subdomain=\"\", root_domain=\"faithlife\", tld=\"com\", path=\"think-python\", page=\"activity\")\n",
    "'https://faithlife.com/think-python/activity'\n",
    "\n",
    ">>> makeURL(subdomain=\"www\", root_domain=\"logos\", tld=\"com\", path=\"product\", page=\"310/the-new-bible-dictionary-third-edition\")\n",
    "'https://www.logos.com/product/310/the-new-bible-dictionary-third-edition'\n",
    "```\n",
    "![Pulse Check](../meta/images/pulse-check.png)\n",
    "\n",
    "[Exercise 05-2 Solution](#Exercise-05-2-Solution)"
   ]
  },
  {
   "cell_type": "markdown",
   "metadata": {},
   "source": [
    "### Discussion\n",
    "\n",
    "* Would it be better to have a separate function for creating the string for subdomain/domain/TLD? Why or why not? \n",
    "* Wouldn't it be great if you could define optional parameters, and give default values to parameters?\n",
    "* How would you extend this function to cover URL parameters? What if there were multiple parameters? "
   ]
  },
  {
   "cell_type": "markdown",
   "metadata": {},
   "source": [
    "## The 5-Minute Guide to Web APIs\n",
    "---\n",
    "\n",
    "* API = Application Programming Interface, a method for software components to talk to each other\n",
    "* The future of the web is machine-to-machine communcation\n",
    "* Four aspects of a RESTful web service (web API)\n",
    "    * Base URI for the service (e.g. `http://api.biblia.com/v1/bible`)\n",
    "    * Supported media type(s) (Biblia: JSON/text and XML)\n",
    "    * The methods supported by the API (Biblia: `Content`, `Search`, `Parse`, and others)\n",
    "    * Hypertext-drivends"
   ]
  },
  {
   "cell_type": "markdown",
   "metadata": {},
   "source": [
    "### Biblia's `Content` Service\n",
    "\n",
    "-   Return content for a specified Bible\n",
    "-   Example:\n",
    "    [http://api.biblia.com/v1/bible/content/LEB.txt?passage=Mark+4:9&key=MyAPIKey](http://api.biblia.com/v1/bible/content/LEB.txt?passage=Mark+4:9&key=5ed223a198307ffde317add78fe15710)\n",
    "-   [Documentation](http://api.biblia.com/docs/Bible_Content)\n",
    "-   Biblia API methods are read-only"
   ]
  },
  {
   "cell_type": "markdown",
   "metadata": {},
   "source": [
    "## Homework\n",
    "---\n",
    "\n",
    "* Catch up\n",
    "* Read Chapter 7 and do the exercises. \n",
    "* Read [the Biblia API documentation](http://api.biblia.com/docs/Bible_Content), get yourself an [API Key](http://bibliaapi.com/docs/API_Keys), and try writing some code to exercise it. \n",
    "    * <img src=\"../meta/images/bd.png\" style=\"display: inline;\" /><img src=\"../meta/images/bd.png\" style=\"display: inline;\" /> See [biblia.py](https://github.com/sboisen/training/blob/master/ThinkPython/Week05/biblia.py) for one example after you've tried yourself: this uses some Python elements we haven't introduced yet. \n"
   ]
  },
  {
   "cell_type": "markdown",
   "metadata": {},
   "source": [
    "## Additional Resources\n",
    "---\n",
    "\n",
    "* [Validate an URL address - FormValidation](http://formvalidation.io/validators/uri/) checks URL syntax\n",
    "* [Url Parser from FreeFormatter.com](http://www.freeformatter.com/url-parser-query-string-splitter.html) parses a URL and shows you the components. However, it doesn't flag invalid URLs. \n",
    "* <img src=\"../meta/images/bd.png\" style=\"display: inline;\" />The standard [urllib.parse](https://docs.python.org/3/library/urllib.parse.html) module in Python will take a string representing a URL and parse it into its various components. \n",
    "* <img src=\"../meta/images/bd.png\" style=\"display: inline;\" /><img src=\"../meta/images/bd.png\" style=\"display: inline;\" />[The W3C Specification for URLs (1994)](http://www.w3.org/Addressing/URL/url-spec.txt)\n",
    "* <img src=\"../meta/images/bd.png\" style=\"display: inline;\" />Wondering why some sites use 'www' as a subdomain? See http://no-www.org/ for the anti-www perspective. \n",
    "\n",
    "<img src=\"../meta/images/XKCD-automating-tasks.png\" />"
   ]
  },
  {
   "cell_type": "markdown",
   "metadata": {},
   "source": [
    "## My Solution\n",
    "---\n",
    "\n",
    "> Write a function that takes the name of any month and the date of the first Sunday, and prints out the dates of all the Sundays for that month. \n",
    "\n",
    "1. Break the problem down into logical pieces\n",
    "    * Function to return days in a month\n",
    "    * Function to print Sundays given number of days in the month and date of the first Sunday (as `int`)\n",
    "    * Map month names to integers\n",
    "2. Build up each piece incrementally\n",
    "3. Test, including *boundary cases*"
   ]
  },
  {
   "cell_type": "code",
   "execution_count": 1,
   "metadata": {},
   "outputs": [],
   "source": [
    "def days_in_month(monthname):\n",
    "    \"\"\"Given the name of a month, return the number of days in the month. \n",
    "    \n",
    "    Doesn't handle Februarys in leap years. \"\"\"\n",
    "    if (monthname == 'February'):\n",
    "        return 28\n",
    "    elif (monthname == 'April') or (monthname == 'June') or (monthname == 'September') or (monthname == 'November'):\n",
    "        return 30\n",
    "    else:\n",
    "        return 31"
   ]
  },
  {
   "cell_type": "code",
   "execution_count": 36,
   "metadata": {},
   "outputs": [
    {
     "data": {
      "text/plain": [
       "30"
      ]
     },
     "execution_count": 36,
     "metadata": {},
     "output_type": "execute_result"
    }
   ],
   "source": [
    "days_in_month('June')"
   ]
  },
  {
   "cell_type": "code",
   "execution_count": 35,
   "metadata": {},
   "outputs": [
    {
     "data": {
      "text/plain": [
       "31"
      ]
     },
     "execution_count": 35,
     "metadata": {},
     "output_type": "execute_result"
    }
   ],
   "source": [
    "days_in_month('July')"
   ]
  },
  {
   "cell_type": "code",
   "execution_count": 38,
   "metadata": {},
   "outputs": [],
   "source": [
    "# Example: `sundays(\"February\", 3)` should print out 3, 10, 17 24\n",
    "def month_sundays(days_in_month, first_day):\n",
    "    \"\"\"Given the number of days in a month and the date of the first Sunday, print\n",
    "    the days of all the Sundays. \"\"\"\n",
    "    # if the first Sunday is on the 7th\n",
    "    sunday_date = first_day % 7\n",
    "    for i in range(1, days_in_month+1):\n",
    "        if ((i % 7) == sunday_date):\n",
    "            print(i)"
   ]
  },
  {
   "cell_type": "code",
   "execution_count": 39,
   "metadata": {},
   "outputs": [
    {
     "name": "stdout",
     "output_type": "stream",
     "text": [
      "2\n",
      "9\n",
      "16\n",
      "23\n",
      "30\n"
     ]
    }
   ],
   "source": [
    "# for June 2019, first Sunday is the 2nd\n",
    "month_sundays(30, 2)"
   ]
  },
  {
   "cell_type": "code",
   "execution_count": 40,
   "metadata": {},
   "outputs": [
    {
     "name": "stdout",
     "output_type": "stream",
     "text": [
      "7\n",
      "14\n",
      "21\n",
      "28\n"
     ]
    }
   ],
   "source": [
    "# for July 2019, first Sunday is the 7th\n",
    "month_sundays(31, 7)"
   ]
  },
  {
   "cell_type": "code",
   "execution_count": 41,
   "metadata": {},
   "outputs": [
    {
     "name": "stdout",
     "output_type": "stream",
     "text": [
      "3\n",
      "10\n",
      "17\n",
      "24\n"
     ]
    }
   ],
   "source": [
    "# for February 2019, the first Sunday is the 3rd\n",
    "month_sundays(28, 3)"
   ]
  },
  {
   "cell_type": "code",
   "execution_count": 42,
   "metadata": {},
   "outputs": [],
   "source": [
    "# put it all together\n",
    "def sundays_for_month(monthname, first_day):\n",
    "    n = days_in_month(monthname)\n",
    "    month_sundays(n, first_day)"
   ]
  },
  {
   "cell_type": "code",
   "execution_count": 43,
   "metadata": {},
   "outputs": [
    {
     "name": "stdout",
     "output_type": "stream",
     "text": [
      "7\n",
      "14\n",
      "21\n",
      "28\n"
     ]
    }
   ],
   "source": [
    "sundays_for_month(\"July\", 7)"
   ]
  },
  {
   "cell_type": "code",
   "execution_count": 44,
   "metadata": {},
   "outputs": [
    {
     "name": "stdout",
     "output_type": "stream",
     "text": [
      "3\n",
      "10\n",
      "17\n",
      "24\n"
     ]
    }
   ],
   "source": [
    "sundays_for_month(\"February\", 3)"
   ]
  },
  {
   "cell_type": "markdown",
   "metadata": {},
   "source": [
    "Further Improvements:\n",
    "\n",
    "* Incorporate data on the first Sunday: how might this change the parameters? \n",
    "* Test for incorrect argument types\n",
    "* Test for incorrect argument values"
   ]
  },
  {
   "cell_type": "markdown",
   "metadata": {},
   "source": [
    "## Exercise 05-2 Solution"
   ]
  },
  {
   "cell_type": "code",
   "execution_count": 52,
   "metadata": {},
   "outputs": [],
   "source": [
    "def makeURL(subdomain, root_domain, tld, path, page):\n",
    "    # hardwire protocol for now: better long-term to define it as a parameter\n",
    "    protocol='https'\n",
    "    # should validate tld, check character validity, etc.\n",
    "    # syntax-only characters like '://' aren't parameters, they're the knowledge encapsulated in the function\n",
    "    base = protocol + '://'\n",
    "    domainstr = root_domain + '.' + tld\n",
    "    if subdomain:\n",
    "        domainstr = subdomain + '.' + domainstr\n",
    "    base = base + domainstr\n",
    "    if path:\n",
    "        base = base + '/' + path\n",
    "    if page:\n",
    "        base = base + '/' + page\n",
    "    return base"
   ]
  },
  {
   "cell_type": "code",
   "execution_count": 53,
   "metadata": {},
   "outputs": [
    {
     "data": {
      "text/plain": [
       "'https://music.faithlife.com'"
      ]
     },
     "execution_count": 53,
     "metadata": {},
     "output_type": "execute_result"
    }
   ],
   "source": [
    "makeURL(subdomain=\"music\", root_domain=\"faithlife\", tld=\"com\", path=\"\", page=\"\")"
   ]
  },
  {
   "cell_type": "code",
   "execution_count": 54,
   "metadata": {},
   "outputs": [
    {
     "data": {
      "text/plain": [
       "'https://faithlife.com/think-python/activity'"
      ]
     },
     "execution_count": 54,
     "metadata": {},
     "output_type": "execute_result"
    }
   ],
   "source": [
    "makeURL(subdomain=\"\", root_domain=\"faithlife\", tld=\"com\", path=\"think-python\", page=\"activity\")"
   ]
  },
  {
   "cell_type": "code",
   "execution_count": 55,
   "metadata": {},
   "outputs": [
    {
     "data": {
      "text/plain": [
       "'https://www.logos.com/product/310/the-new-bible-dictionary-third-edition'"
      ]
     },
     "execution_count": 55,
     "metadata": {},
     "output_type": "execute_result"
    }
   ],
   "source": [
    "# New Bible Dictionary product page\n",
    "makeURL(subdomain=\"www\", root_domain=\"logos\", tld=\"com\", path=\"product\", page=\"310/the-new-bible-dictionary-third-edition\")"
   ]
  },
  {
   "cell_type": "code",
   "execution_count": null,
   "metadata": {},
   "outputs": [],
   "source": []
  }
 ],
 "metadata": {
  "kernelspec": {
   "display_name": "Python 3",
   "language": "python",
   "name": "python3"
  },
  "language_info": {
   "codemirror_mode": {
    "name": "ipython",
    "version": 3
   },
   "file_extension": ".py",
   "mimetype": "text/x-python",
   "name": "python",
   "nbconvert_exporter": "python",
   "pygments_lexer": "ipython3",
   "version": "3.7.3"
  }
 },
 "nbformat": 4,
 "nbformat_minor": 2
}
