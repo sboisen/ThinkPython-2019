{
 "cells": [
  {
   "cell_type": "markdown",
   "metadata": {},
   "source": [
    "# Think Python, Week 2: Functions \n",
    "\n",
    "<img src='../meta/images/python-logo.png' style=\"float:right\">\n",
    "\n",
    "## Objectives\n",
    "---\n",
    "\n",
    "* Understand functions, how they're defined, and how they're called.\n",
    "* Understand the `import` statement and *dot notation*\n",
    "* \n"
   ]
  },
  {
   "cell_type": "markdown",
   "metadata": {},
   "source": [
    "### Contents\n",
    "---\n",
    "\n",
    "* [Chapter 3: Functions](#Chapter-3%3A-Functions)\n",
    "* [Concept: TBD](#Concept%3A-TBD)\n",
    "* [Homework](#Homework)\n"
   ]
  },
  {
   "cell_type": "markdown",
   "metadata": {},
   "source": [
    "## Questions from Last Week\n",
    "---\n",
    "\n",
    "> Confusion charges compound interest. \n",
    "\n",
    "### `git pull`\n",
    "\n",
    "* What if both the repo (cloud version) and your local file have changed?\n",
    "    * `pull` raises an error\n",
    "    * Option 1: \n",
    "        * Make a local copy if you want to keep yours (suggestion: prefix `my-`)\n",
    "    * Discard your local file: `git checkout -- 01-Types-and-Variables/01-Index.ipynb`\n",
    "\n",
    "### Refreshers\n",
    "\n",
    "* "
   ]
  },
  {
   "cell_type": "markdown",
   "metadata": {},
   "source": [
    "## Chapter 3: Functions\n",
    "\n",
    "> “a function is a named sequence of statements that performs a computation. When you define a function, you specify the name and the sequence of statements. Later, you can “call” the function by name.”\n"
   ]
  },
  {
   "cell_type": "markdown",
   "metadata": {},
   "source": [
    "## Exercise: Do Something\n",
    "---\n",
    "\n",
    "![Pulse Check](../meta/images/pulse-check.png)"
   ]
  },
  {
   "cell_type": "markdown",
   "metadata": {},
   "source": [
    "## Gotchas\n",
    "---"
   ]
  },
  {
   "cell_type": "markdown",
   "metadata": {},
   "source": [
    "## Concept: Composition\n",
    "\n",
    "> “One of the most useful features of programming languages is their ability to take small building blocks and compose them. ”\n",
    "\n",
    "* Top-down and bottom-up approaches to programming (and problem solving)."
   ]
  },
  {
   "cell_type": "markdown",
   "metadata": {},
   "source": [
    "## Best Practice: \n",
    "---\n"
   ]
  },
  {
   "cell_type": "markdown",
   "metadata": {},
   "source": [
    "## Homework\n",
    "---\n",
    "\n",
    "* Read Chapter 4"
   ]
  },
  {
   "cell_type": "markdown",
   "metadata": {},
   "source": [
    "## Additional Resources\n",
    "---\n",
    "\n",
    "* <img src=\"../meta/images/bd.png\" style=\"display: inline;\" />"
   ]
  },
  {
   "cell_type": "code",
   "execution_count": null,
   "metadata": {},
   "outputs": [],
   "source": []
  }
 ],
 "metadata": {
  "kernelspec": {
   "display_name": "Python 3",
   "language": "python",
   "name": "python3"
  },
  "language_info": {
   "codemirror_mode": {
    "name": "ipython",
    "version": 3
   },
   "file_extension": ".py",
   "mimetype": "text/x-python",
   "name": "python",
   "nbconvert_exporter": "python",
   "pygments_lexer": "ipython3",
   "version": "3.7.3"
  }
 },
 "nbformat": 4,
 "nbformat_minor": 2
}
