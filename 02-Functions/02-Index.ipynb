{
 "cells": [
  {
   "cell_type": "markdown",
   "metadata": {},
   "source": [
    "# Think Python, Week 2: Functions \n",
    "\n",
    "<img src='../meta/images/python-logo.png' style=\"float:right\">\n",
    "\n",
    "## Objectives\n",
    "---\n",
    "\n",
    "* Understand functions\n",
    "    * how they're defined and called\n",
    "    * parameters and arguments\n",
    "    * local values\n",
    "    * Return values\n",
    "* Understand the `import` statement and *dot notation*\n"
   ]
  },
  {
   "cell_type": "markdown",
   "metadata": {},
   "source": [
    "### Contents\n",
    "---\n",
    "\n",
    "* [Chapter 3: Functions](#Chapter-3%3A-Functions)\n",
    "* [Concept: Composition](#Concept%3A-Composition)\n",
    "* [Homework](#Homework)\n"
   ]
  },
  {
   "cell_type": "markdown",
   "metadata": {},
   "source": [
    "## Questions from Last Week\n",
    "---\n",
    "\n",
    "> Confusion charges compound interest. \n",
    "\n",
    "### `git pull`\n",
    "\n",
    "What if both the repo (cloud version) and your local file have changed?\n",
    "\n",
    "Symptom: `pull` raises an error like this.\n",
    "\n",
    "```\n",
    "> git pull\n",
    "error: cannot pull with rebase: You have unstaged changes.\n",
    "error: please commit or stash them.\n",
    "```\n",
    "\n",
    "One resolution (we'll see others later): in a terminal in your `ThinkPython-2019` directory, ...\n",
    "\n",
    "* Use `git status` to see which files have changed.     \n",
    "* Make a local copy if you want to keep yours (suggestion: prefix `my-` to the filename)\n",
    "* Discard your local file: `git checkout -- 01-Types-and-Variables/01-Index.ipynb`\n",
    "    * This overwrites your local version of `01-Index.ipynb` with the repo version"
   ]
  },
  {
   "cell_type": "markdown",
   "metadata": {},
   "source": [
    "## Chapter 3: Functions\n",
    "\n",
    "> “a function is a named sequence of statements that performs a computation. When you define a function, you specify the name and the sequence of statements. Later, you can “call” the function by name.”\n"
   ]
  },
  {
   "cell_type": "markdown",
   "metadata": {},
   "source": [
    "### Exercise: Cost of books and shipping at quantity\n",
    "\n",
    "* Bulk book purchases cost 40% of their retail price. \n",
    "* Shipping is $3 for the first copy, and $0.75 for each additional copy.\n",
    "* Write a function to compute the total cost of an order, given two parameters, `price` and `quantity`.\n",
    "\n",
    "![Pulse Check](../meta/images/pulse-check.png)"
   ]
  },
  {
   "cell_type": "code",
   "execution_count": 20,
   "metadata": {},
   "outputs": [],
   "source": [
    "def totalcost(price, quantity):\n",
    "    cost = (price * 0.4) * quantity\n",
    "    shippingcost = 3.0 + ((quantity - 1) * 0.75)   \n",
    "    total = cost + shippingcost\n",
    "    print('Cost:', cost)\n",
    "    print('Shipping cost:', shippingcost)\n",
    "    print('Total:', total)"
   ]
  },
  {
   "cell_type": "code",
   "execution_count": 31,
   "metadata": {},
   "outputs": [
    {
     "name": "stdout",
     "output_type": "stream",
     "text": [
      "Cost: 221.52\n",
      "Shipping cost: 17.25\n",
      "Total: 238.77\n"
     ]
    }
   ],
   "source": [
    "totalcost(27.69, 20)"
   ]
  },
  {
   "cell_type": "markdown",
   "metadata": {},
   "source": [
    "### Anatomy of a Function Definition\n",
    "\n",
    "![Anatomy of a function](../meta/images/function-anatomy.png)\n",
    "\n",
    "* Required syntax: `def`, parenthesis around the parameter list, and a colon.\n",
    "* Function definitions are stored as the value of a variable, so variable naming rules apply. "
   ]
  },
  {
   "cell_type": "markdown",
   "metadata": {},
   "source": [
    "### Calling Functions (Simplified)\n",
    "\n",
    "* Arguments are evaluated and their values are assigned to parameters.\n",
    "* The body of the function is executed.\n",
    "* The last value is returned"
   ]
  },
  {
   "cell_type": "code",
   "execution_count": 29,
   "metadata": {},
   "outputs": [
    {
     "ename": "TypeError",
     "evalue": "totalcost() missing 1 required positional argument: 'quantity'",
     "output_type": "error",
     "traceback": [
      "\u001b[0;31m---------------------------------------------------------------------------\u001b[0m",
      "\u001b[0;31mTypeError\u001b[0m                                 Traceback (most recent call last)",
      "\u001b[0;32m<ipython-input-29-4ef61ee25a09>\u001b[0m in \u001b[0;36m<module>\u001b[0;34m\u001b[0m\n\u001b[0;32m----> 1\u001b[0;31m \u001b[0mtotalcost\u001b[0m\u001b[0;34m(\u001b[0m\u001b[0;36m27.69\u001b[0m\u001b[0;34m)\u001b[0m\u001b[0;34m\u001b[0m\u001b[0;34m\u001b[0m\u001b[0m\n\u001b[0m",
      "\u001b[0;31mTypeError\u001b[0m: totalcost() missing 1 required positional argument: 'quantity'"
     ]
    }
   ],
   "source": [
    "totalcost(27.69)"
   ]
  },
  {
   "cell_type": "code",
   "execution_count": 33,
   "metadata": {},
   "outputs": [
    {
     "name": "stdout",
     "output_type": "stream",
     "text": [
      "Cost: -11.076\n",
      "Shipping cost: 1.5\n",
      "Total: -9.576\n"
     ]
    }
   ],
   "source": [
    "totalcost(27.69, -1)"
   ]
  },
  {
   "cell_type": "markdown",
   "metadata": {},
   "source": [
    "### Function Variables and Parameters are *Local*"
   ]
  },
  {
   "cell_type": "code",
   "execution_count": 24,
   "metadata": {},
   "outputs": [
    {
     "ename": "NameError",
     "evalue": "name 'price' is not defined",
     "output_type": "error",
     "traceback": [
      "\u001b[0;31m---------------------------------------------------------------------------\u001b[0m",
      "\u001b[0;31mNameError\u001b[0m                                 Traceback (most recent call last)",
      "\u001b[0;32m<ipython-input-24-428d1bbfcd29>\u001b[0m in \u001b[0;36m<module>\u001b[0;34m\u001b[0m\n\u001b[0;32m----> 1\u001b[0;31m \u001b[0mprice\u001b[0m\u001b[0;34m\u001b[0m\u001b[0;34m\u001b[0m\u001b[0m\n\u001b[0m",
      "\u001b[0;31mNameError\u001b[0m: name 'price' is not defined"
     ]
    }
   ],
   "source": [
    "price"
   ]
  },
  {
   "cell_type": "code",
   "execution_count": 25,
   "metadata": {},
   "outputs": [
    {
     "ename": "NameError",
     "evalue": "name 'cost' is not defined",
     "output_type": "error",
     "traceback": [
      "\u001b[0;31m---------------------------------------------------------------------------\u001b[0m",
      "\u001b[0;31mNameError\u001b[0m                                 Traceback (most recent call last)",
      "\u001b[0;32m<ipython-input-25-5baf4dfeb985>\u001b[0m in \u001b[0;36m<module>\u001b[0;34m\u001b[0m\n\u001b[0;32m----> 1\u001b[0;31m \u001b[0mcost\u001b[0m\u001b[0;34m\u001b[0m\u001b[0;34m\u001b[0m\u001b[0m\n\u001b[0m",
      "\u001b[0;31mNameError\u001b[0m: name 'cost' is not defined"
     ]
    }
   ],
   "source": [
    "cost"
   ]
  },
  {
   "cell_type": "markdown",
   "metadata": {},
   "source": [
    "## Debugging: `type`"
   ]
  },
  {
   "cell_type": "code",
   "execution_count": 26,
   "metadata": {},
   "outputs": [
    {
     "name": "stdout",
     "output_type": "stream",
     "text": [
      "Cost: 221.52\n",
      "Shipping cost: 17.25\n",
      "Total: 238.77\n"
     ]
    }
   ],
   "source": [
    "x = totalcost(27.69, 20)"
   ]
  },
  {
   "cell_type": "code",
   "execution_count": 27,
   "metadata": {},
   "outputs": [
    {
     "name": "stdout",
     "output_type": "stream",
     "text": [
      "None\n"
     ]
    }
   ],
   "source": [
    "print(x)"
   ]
  },
  {
   "cell_type": "code",
   "execution_count": 28,
   "metadata": {},
   "outputs": [
    {
     "data": {
      "text/plain": [
       "NoneType"
      ]
     },
     "execution_count": 28,
     "metadata": {},
     "output_type": "execute_result"
    }
   ],
   "source": [
    "type(x)"
   ]
  },
  {
   "cell_type": "markdown",
   "metadata": {},
   "source": [
    "## Gotchas\n",
    "---"
   ]
  },
  {
   "cell_type": "markdown",
   "metadata": {},
   "source": [
    "## Concept: Composition\n",
    "\n",
    "> “One of the most useful features of programming languages is their ability to take small building blocks and compose them. ”\n",
    "\n",
    "* Goal: assign the number of working hours in a year to the variable `workhours_per_year`. \n",
    "* Code a compositional and non-compositional approach. \n",
    "* Do you see any tradeoffs between these two approaches? "
   ]
  },
  {
   "cell_type": "code",
   "execution_count": 1,
   "metadata": {},
   "outputs": [],
   "source": [
    "# Non-compositional approach\n",
    "workhours_per_year = "
   ]
  },
  {
   "cell_type": "code",
   "execution_count": 2,
   "metadata": {},
   "outputs": [],
   "source": [
    "# Compositional approach\n",
    "workhours_per_year = "
   ]
  },
  {
   "cell_type": "markdown",
   "metadata": {},
   "source": [
    "![Pulse Check](../meta/images/pulse-check.png)"
   ]
  },
  {
   "cell_type": "markdown",
   "metadata": {},
   "source": [
    "## Best Practice: \n",
    "---\n"
   ]
  },
  {
   "cell_type": "markdown",
   "metadata": {},
   "source": [
    "## Homework\n",
    "---\n",
    "\n",
    "* Read Chapter 4"
   ]
  },
  {
   "cell_type": "markdown",
   "metadata": {},
   "source": [
    "## Additional Resources\n",
    "---\n",
    "\n",
    "* <img src=\"../meta/images/bd.png\" style=\"display: inline;\" />"
   ]
  },
  {
   "cell_type": "markdown",
   "metadata": {},
   "source": [
    "![Writing Good Code](../meta/images/XKCD-writing_good_code.png)"
   ]
  }
 ],
 "metadata": {
  "kernelspec": {
   "display_name": "Python 3",
   "language": "python",
   "name": "python3"
  },
  "language_info": {
   "codemirror_mode": {
    "name": "ipython",
    "version": 3
   },
   "file_extension": ".py",
   "mimetype": "text/x-python",
   "name": "python",
   "nbconvert_exporter": "python",
   "pygments_lexer": "ipython3",
   "version": "3.7.3"
  }
 },
 "nbformat": 4,
 "nbformat_minor": 2
}
