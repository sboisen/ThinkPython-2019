{
 "cells": [
  {
   "cell_type": "markdown",
   "metadata": {},
   "source": [
    "# Think Python, Week 2: Functions \n",
    "\n",
    "<img src='../meta/images/python-logo.png' style=\"float:right\">\n",
    "\n",
    "## Objectives\n",
    "---\n",
    "\n",
    "* Understand functions\n",
    "    * how they're defined and called\n",
    "    * parameters and arguments\n",
    "    * local values\n",
    "    * Return values\n",
    "* Understand the `import` statement and *dot notation*\n"
   ]
  },
  {
   "cell_type": "markdown",
   "metadata": {},
   "source": [
    "### Contents\n",
    "---\n",
    "\n",
    "* [Chapter 3: Functions](#Chapter-3%3A-Functions)\n",
    "* [Concept: Composition](#Concept%3A-Composition)\n",
    "* [Homework](#Homework)\n"
   ]
  },
  {
   "cell_type": "markdown",
   "metadata": {},
   "source": [
    "## Questions from Last Week\n",
    "---\n",
    "\n",
    "> Confusion charges compound interest. \n",
    "\n",
    "### `git pull`\n",
    "\n",
    "What if both the repo (cloud version) and your local file have changed?\n",
    "\n",
    "Symptom: `pull` raises an error like this.\n",
    "\n",
    "```\n",
    "> git pull\n",
    "error: cannot pull with rebase: You have unstaged changes.\n",
    "error: please commit or stash them.\n",
    "```\n",
    "\n",
    "One resolution (we'll see others later): in a terminal in your `ThinkPython-2019` directory, ...\n",
    "\n",
    "* Use `git status` to see which files have changed.     \n",
    "* Make a local copy if you want to keep yours (suggestion: prefix `my-` to the filename)\n",
    "* Discard your local file: `git checkout -- 01-Types-and-Variables/01-Index.ipynb`\n",
    "    * This overwrites your local version of `01-Index.ipynb` with the repo version"
   ]
  },
  {
   "cell_type": "markdown",
   "metadata": {},
   "source": [
    "## Chapter 3: Functions\n",
    "---\n",
    "\n",
    "> “a function is a named sequence of statements that performs a computation. When you define a function, you specify the name and the sequence of statements. Later, you can “call” the function by name.”\n"
   ]
  },
  {
   "cell_type": "markdown",
   "metadata": {},
   "source": [
    "### Exercise: Cost of books and shipping at quantity\n",
    "\n",
    "* Bulk book purchases cost 40% of their retail price. \n",
    "* Shipping is \\\\$3 for the first copy, and \\\\$0.75 for each additional copy.\n",
    "* Write a function to compute the total cost of an order, given two parameters, `price` and `quantity`.\n",
    "\n",
    "![Pulse Check](../meta/images/pulse-check.png)"
   ]
  },
  {
   "cell_type": "code",
   "execution_count": null,
   "metadata": {},
   "outputs": [],
   "source": [
    "def totalcost(price, quantity):\n",
    "    cost = (price * 0.4) * quantity\n",
    "    shippingcost = 3.0 + ((quantity - 1) * 0.75)\n",
    "    total = cost + shippingcost\n",
    "    print('Cost:', cost)\n",
    "    print('Shipping cost:', shippingcost)\n",
    "    print('Total:', total)"
   ]
  },
  {
   "cell_type": "code",
   "execution_count": null,
   "metadata": {},
   "outputs": [],
   "source": [
    "totalcost(27.69, 20)"
   ]
  },
  {
   "cell_type": "markdown",
   "metadata": {},
   "source": [
    "How'd you do? If you couldn't define the function or made mistakes, do you understand what went wrong? "
   ]
  },
  {
   "cell_type": "markdown",
   "metadata": {},
   "source": [
    "### Anatomy of a Function Definition\n",
    "\n",
    "![Anatomy of a function](../meta/images/function-anatomy.png)\n",
    "\n",
    "* Required syntax: `def`, parenthesis around the parameter list, and a colon.\n",
    "* Function definitions are stored as the value of a variable, so variable naming rules apply. "
   ]
  },
  {
   "cell_type": "markdown",
   "metadata": {},
   "source": [
    "### Calling Functions (Simplified)\n",
    "\n",
    "```\n",
    ">>> totalcost(27.69, 4*5)\n",
    "```\n",
    "\n",
    "1. Evaluate the argument list \n",
    "2. Look up the function object for the name\n",
    "4. Assign values from the argument list to the parameters of the function\n",
    "   * `price = 27.69`\n",
    "   * `quantity = 20`\n",
    "5. Execute the statements in the body\n",
    "6. Return a value (if any)\n"
   ]
  },
  {
   "cell_type": "markdown",
   "metadata": {},
   "source": [
    "### Testing Your Understanding"
   ]
  },
  {
   "cell_type": "code",
   "execution_count": null,
   "metadata": {},
   "outputs": [],
   "source": [
    "# what happens?\n",
    "totalcost(27.69)"
   ]
  },
  {
   "cell_type": "code",
   "execution_count": null,
   "metadata": {},
   "outputs": [],
   "source": [
    "# what happens?\n",
    "totalcost(27.69, 0)"
   ]
  },
  {
   "cell_type": "code",
   "execution_count": null,
   "metadata": {},
   "outputs": [],
   "source": [
    "# what's the type of totalcost?\n",
    "type(totalcost)"
   ]
  },
  {
   "cell_type": "code",
   "execution_count": null,
   "metadata": {},
   "outputs": [],
   "source": [
    "# what happens?\n",
    "totalcost = 27.69"
   ]
  },
  {
   "cell_type": "code",
   "execution_count": null,
   "metadata": {},
   "outputs": [],
   "source": [
    "totalcost"
   ]
  },
  {
   "cell_type": "markdown",
   "metadata": {},
   "source": [
    "### Function Variables and Parameters are *Local*"
   ]
  },
  {
   "cell_type": "markdown",
   "metadata": {},
   "source": [
    "* Parameters are only defined within the body of the function\n",
    "* After the function has been executed, the local variables are no longer defined"
   ]
  },
  {
   "cell_type": "code",
   "execution_count": null,
   "metadata": {},
   "outputs": [],
   "source": [
    "def totalcost(price, quantity):\n",
    "    cost = (price * 0.4) * quantity\n",
    "    shippingcost = 3.0 + ((quantity - 1) * 0.75)   \n",
    "    total = cost + shippingcost\n",
    "    print('Cost:', cost)\n",
    "    print('Shipping cost:', shippingcost)\n",
    "    print('Total:', total)"
   ]
  },
  {
   "cell_type": "code",
   "execution_count": null,
   "metadata": {},
   "outputs": [],
   "source": [
    "totalcost(27.69, 20)"
   ]
  },
  {
   "cell_type": "code",
   "execution_count": null,
   "metadata": {},
   "outputs": [],
   "source": [
    "price"
   ]
  },
  {
   "cell_type": "code",
   "execution_count": null,
   "metadata": {},
   "outputs": [],
   "source": [
    "cost"
   ]
  },
  {
   "cell_type": "markdown",
   "metadata": {},
   "source": [
    "### Variables and Parameters are Distinct"
   ]
  },
  {
   "cell_type": "markdown",
   "metadata": {},
   "source": [
    "> \"The name of the variable we pass as an argument ... has nothing to do with the name of the parameter\""
   ]
  },
  {
   "cell_type": "code",
   "execution_count": null,
   "metadata": {},
   "outputs": [],
   "source": [
    "thinkpythoncost = 27.69\n",
    "def doubler(cost):\n",
    "    cost = cost * 2\n",
    "    print(\"Inside the function, cost is: \", cost)\n",
    "doubler(thinkpythoncost)"
   ]
  },
  {
   "cell_type": "code",
   "execution_count": null,
   "metadata": {},
   "outputs": [],
   "source": [
    "thinkpythoncost"
   ]
  },
  {
   "cell_type": "markdown",
   "metadata": {},
   "source": [
    "## *All* Functions Return a Value\n",
    "\n",
    "> \"Other functions, like print_twice, perform an action but don’t return a value. They are called void functions.\"\n",
    "\n",
    "* Misleading: even if we don't specify a value to return, they *do* return a value! Better:\n",
    "\n",
    "> Other functions, like print_twice, perform an action but **return the special value None.**\n",
    "\n",
    "The intepreter doesn't display the None value returned by void functions."
   ]
  },
  {
   "cell_type": "markdown",
   "metadata": {},
   "source": [
    "## `import`\n",
    "---\n",
    "\n",
    "> “A module is a file that contains a collection of related functions.”\n",
    "\n",
    "The `import` statement imports a Python *module*. Python is a \"batteries included\" language, and comes with many dozens of modules. A significant part of learning to program in Python is learning about these modules and what they do. "
   ]
  },
  {
   "cell_type": "code",
   "execution_count": null,
   "metadata": {},
   "outputs": [],
   "source": [
    "# The `operator` module exports a set of efficient functions corresponding to the intrinsic operators of Python. \n",
    "import operator\n",
    "operator.add(2, 2)"
   ]
  },
  {
   "cell_type": "code",
   "execution_count": null,
   "metadata": {},
   "outputs": [],
   "source": [
    "operator"
   ]
  },
  {
   "cell_type": "markdown",
   "metadata": {},
   "source": [
    "## Debugging: `type`"
   ]
  },
  {
   "cell_type": "code",
   "execution_count": null,
   "metadata": {},
   "outputs": [],
   "source": [
    "x = totalcost(27.69, 20)"
   ]
  },
  {
   "cell_type": "code",
   "execution_count": null,
   "metadata": {},
   "outputs": [],
   "source": [
    "print(x)"
   ]
  },
  {
   "cell_type": "code",
   "execution_count": null,
   "metadata": {},
   "outputs": [],
   "source": [
    "type(x)"
   ]
  },
  {
   "cell_type": "markdown",
   "metadata": {},
   "source": [
    "## Best Practices: Functions\n",
    "---\n",
    "\n",
    "* Provide a simple name for a complex sequence of statements\n",
    "* Write once and re-use many times\n",
    "* Compose different functions\n",
    "* Assemble larger programs\n",
    "* Debug once"
   ]
  },
  {
   "cell_type": "markdown",
   "metadata": {},
   "source": [
    "## Homework\n",
    "---\n",
    "\n",
    "* Rewrite `totalcost` and add parameters for the cost of the first book and the cost of additional books.\n",
    "* See if you can identify some smallish functions in your area of work (even if you don't yet know how to express them in Python). Try writing out in words what parameters you'd want, and what the sequence of steps would be. \n",
    "    * Example: use the Faithlife platform to send you the message \"Hello world!\"\n",
    "        * Go to https://faithlife.com in a browser\n",
    "        * Click on the word bubble near the upper right\n",
    "        * Click on \"New Message\"\n",
    "        * In the \"To:\" line, type ...\n",
    "        * etc\n",
    "    * Bonus points: give someone else your function description and ask them to execute it while you watch (without providing extra input!). How did they do? Did you get ideas for how to improve your function? \n",
    "* Read Chapter 4. He uses some math concepts that may be intimidating, but don't let them scare you! Even if you don't get all the math bits, make sure you understand the principles. \n",
    "    * When you're done with the `turtle` examples, use `turtle.bye()` to close the Turtle graphics window. "
   ]
  },
  {
   "cell_type": "markdown",
   "metadata": {},
   "source": [
    "## Additional Resources\n",
    "---\n",
    "\n",
    "* <img src=\"../meta/images/bd.png\" style=\"display: inline;\" /><img src=\"../meta/images/bd.png\" style=\"display: inline;\" /> [The Python Standard Library](https://docs.python.org/3/library/index.html) has a long list of modules. Even if you're not yet ready to understand everything they do, it may be useful to know they're there for later. "
   ]
  },
  {
   "cell_type": "markdown",
   "metadata": {},
   "source": [
    "![Writing Good Code](../meta/images/XKCD-writing_good_code.png)"
   ]
  }
 ],
 "metadata": {
  "kernelspec": {
   "display_name": "Python 3",
   "language": "python",
   "name": "python3"
  },
  "language_info": {
   "codemirror_mode": {
    "name": "ipython",
    "version": 3
   },
   "file_extension": ".py",
   "mimetype": "text/x-python",
   "name": "python",
   "nbconvert_exporter": "python",
   "pygments_lexer": "ipython3",
   "version": "3.7.3"
  }
 },
 "nbformat": 4,
 "nbformat_minor": 2
}
