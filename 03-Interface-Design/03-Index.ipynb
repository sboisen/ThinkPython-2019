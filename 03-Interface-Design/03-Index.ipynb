{
 "cells": [
  {
   "cell_type": "markdown",
   "metadata": {},
   "source": [
    "# Think Python, Week 3: Interface Design\n",
    "\n",
    "<img src='../meta/images/python-logo.png' style=\"float:right\">\n",
    "\n",
    "## Objectives\n",
    "---\n",
    "\n",
    "* Explore interface design\n",
    "* Understand key programming concepts: encapsulation, generalization, and refactoring\n",
    "* Understand keyword arguments and docstrings"
   ]
  },
  {
   "cell_type": "markdown",
   "metadata": {},
   "source": [
    "### Contents\n",
    "---\n",
    "\n",
    "* [Getting Help on Functions](#Getting-Help-on-Functions)\n",
    "* [Keyword Arguments](#Keyword-Arguments)\n",
    "* [Concept: Encapsulation](#Concept%3A-Encapsulation)\n",
    "* [Concept: Generalization](#Concept%3A-Generalization)\n",
    "* [Concept: Refactoring](#Concept%3A-Refactoring)\n",
    "* [Concept: Interface Design](#Concept%3A-Interface-Design)\n",
    "* [Homework](#Homework)\n",
    "* [Exercise Solutions](#Exercise-Solutions)"
   ]
  },
  {
   "cell_type": "markdown",
   "metadata": {},
   "source": [
    "## Questions from Last Week\n",
    "---\n",
    "\n",
    "This chapter shifts into high gear. Any issues with the reading or homework? "
   ]
  },
  {
   "cell_type": "markdown",
   "metadata": {},
   "source": [
    "## Getting Help on Functions\n",
    "---\n",
    "\n",
    "<img src='../meta/images/ORLY-ChangingStuff.jpg' style=\"float:right\" width=\"300px;\">\n",
    "\n",
    "* Directly in Python: `help(range)`\n",
    "* In Jupyter: \n",
    "    * Shift+Tab with cursor over a function invocation gives you brief help\n",
    "    * Follow function name with '??' and evaluate the cell (Shift+Enter)\n",
    "    \n",
    "From now on I'll assume you can learn function basics for yourself unless you ask. "
   ]
  },
  {
   "cell_type": "code",
   "execution_count": null,
   "metadata": {},
   "outputs": [],
   "source": [
    "# press Shift+Tab to get a documentation popup\n",
    "range(5)"
   ]
  },
  {
   "cell_type": "code",
   "execution_count": null,
   "metadata": {},
   "outputs": [],
   "source": [
    "range??"
   ]
  },
  {
   "cell_type": "markdown",
   "metadata": {},
   "source": [
    "### Exercise 03-1: Printing Even Numbers\n",
    "\n",
    "Print out this sequence using `for` and `range`:\n",
    "\n",
    "```\n",
    "2\n",
    "4\n",
    "6\n",
    "8\n",
    "```\n",
    "\n",
    "([Solutions](#Exercise-Solutions))\n",
    "\n",
    "![Pulse Check](../meta/images/pulse-check.png)"
   ]
  },
  {
   "cell_type": "markdown",
   "metadata": {},
   "source": [
    "## Gotchas: Indentation\n",
    "---\n",
    "\n",
    "* Python uses indented blocks to indicate that something is contained within a statement. 4 spaces is the standard. \n",
    "* A blank line ends the structure. \n",
    "* You will need multiple levels of indentation for more complex structures (see the `square()` function definition in the book)"
   ]
  },
  {
   "cell_type": "code",
   "execution_count": null,
   "metadata": {},
   "outputs": [],
   "source": [
    "for i in range(4):\n",
    "print(i)"
   ]
  },
  {
   "cell_type": "markdown",
   "metadata": {},
   "source": [
    "## Variable Scope and `for` statements \n",
    "---"
   ]
  },
  {
   "cell_type": "code",
   "execution_count": null,
   "metadata": {},
   "outputs": [],
   "source": [
    "# how many lines of output? what will the output be? \n",
    "i = 42\n",
    "for i in range(3):\n",
    "    print(i)\n",
    "    \n",
    "print(\"i is now\", i)"
   ]
  },
  {
   "cell_type": "markdown",
   "metadata": {},
   "source": [
    "## Keyword Arguments\n",
    "\n",
    "* When calling a function, you can supply arguments by position or by *keyword*. (Generalization)\n",
    "    * Keywords must match the parameter names used to define the function\n",
    "* Keywords provide more flexibility and help to document your code\n",
    "* Suggested best practice: **use keywords most of the time** for multiple arguments"
   ]
  },
  {
   "cell_type": "code",
   "execution_count": null,
   "metadata": {},
   "outputs": [],
   "source": [
    "def ptest(p1, p2):\n",
    "    \"\"\"Print values for p1 and p2. \"\"\"\n",
    "    print('p1 is', p1)\n",
    "    print('p2 is', p2)"
   ]
  },
  {
   "cell_type": "code",
   "execution_count": null,
   "metadata": {},
   "outputs": [],
   "source": [
    "ptest('red', 'blue')"
   ]
  },
  {
   "cell_type": "code",
   "execution_count": null,
   "metadata": {},
   "outputs": [],
   "source": [
    "# using keyword arguments, you can supply them in any order\n",
    "ptest(p2='red', p1='blue')"
   ]
  },
  {
   "cell_type": "code",
   "execution_count": null,
   "metadata": {},
   "outputs": [],
   "source": [
    "# you can mix positional and keyword arguments, but\n",
    "# - positional arguments must come before keyword arguments\n",
    "ptest(p2='blue', 'red')"
   ]
  },
  {
   "cell_type": "code",
   "execution_count": null,
   "metadata": {},
   "outputs": [],
   "source": [
    "# - you can't provide the same parameter multiple times\n",
    "ptest('red', p1='blue')"
   ]
  },
  {
   "cell_type": "markdown",
   "metadata": {},
   "source": [
    "## Concept: Encapsulation\n",
    "---\n",
    "\n",
    "* The most valuable resource in computing is *your thinking time*. \n",
    "* Assigning a name to a sequence of operations helps you clarify and elevate your thinking\n",
    "  * Might be appropriate for *even one line of code* if it's complex\n",
    "  * Name functions to remind you what they do. \n",
    "  * Encapsulation makes your code more reusable, and easier to debug and maintain\n",
    "* This is thinking like a computer scientist!"
   ]
  },
  {
   "cell_type": "markdown",
   "metadata": {},
   "source": [
    "Concept: Generalization\n",
    "---\n",
    "\n",
    "* Finding the right division of labor between functions is a key programming skill\n",
    "* Define parameters to make your functions *reusable*. \n",
    "* Develop the habit of identifying commonalities and factoring them out\n",
    "* Best practice: keep your code DRY—Don't Repeat Yourself\n",
    "  * Never define the same thing in more than one place"
   ]
  },
  {
   "cell_type": "markdown",
   "metadata": {},
   "source": [
    "Concept: Refactoring\n",
    "---\n",
    "\n",
    "> “This process—rearranging a program to improve interfaces and facilitate code reuse—is called refactoring”\n",
    "\n",
    "* Exploration of the problem space and refactoring are basic programming practices. \n",
    "* Refactor to *capture your learning in code* when you understand the problem better."
   ]
  },
  {
   "cell_type": "markdown",
   "metadata": {},
   "source": [
    "## Concept: Interface Design\n",
    "---\n",
    "\n",
    "> “An interface is like a contract between a function and a caller. The caller agrees to provide certain parameters and the function agrees to do certain work.”\n",
    "\n",
    "* Thinking about the interface and refactoring as you develop is a critical part of writing code. "
   ]
  },
  {
   "cell_type": "markdown",
   "metadata": {},
   "source": [
    "## Homework\n",
    "---\n",
    "\n",
    "* Some of the exercises in Chapter 4 require mathematical thinking that may be unfamiliar. But even if you couldn't write the functions, you should at least try running them and see if you can understand how they're doing what they're doing. Try changing them and see what happens!\n",
    "* Read Chapter 5 and do the exercises. "
   ]
  },
  {
   "cell_type": "markdown",
   "metadata": {},
   "source": [
    "## Additional Resources\n",
    "---\n",
    "\n",
    "* <img src=\"../meta/images/bd.png\" style=\"display: inline;\" /> Though articulated by [Larry Wall](http://en.wikipedia.org/wiki/Larry_Wall), the creator of the Perl programming language, [The Three Great Virtues of a Programmer](http://threevirtues.com/) are equally applicable to Python.\n",
    "\n",
    "* <img src=\"../meta/images/bd.png\" style=\"display: inline;\" /><img src=\"../meta/images/bd.png\" style=\"display: inline;\" /> [E\\.W\\. Dijkstra Archive: Why numbering should start at zero \\(EWD 831\\)](http://www.cs.utexas.edu/users/EWD/transcriptions/EWD08xx/EWD831.html) Dijkstra was a famous early computer scientist. \n",
    "\n",
    "<img src=\"../meta/images/XKCD-code_quality_2x.png\" />"
   ]
  },
  {
   "cell_type": "markdown",
   "metadata": {},
   "source": [
    "## Exercise Solutions\n",
    "---"
   ]
  },
  {
   "cell_type": "code",
   "execution_count": null,
   "metadata": {},
   "outputs": [],
   "source": [
    "# use `for` and `range` to print out `2, 4, 6, 8`, one to a line \n",
    "for i in range(2, 9, 2):\n",
    "    print(i)"
   ]
  }
 ],
 "metadata": {
  "kernelspec": {
   "display_name": "Python 3",
   "language": "python",
   "name": "python3"
  },
  "language_info": {
   "codemirror_mode": {
    "name": "ipython",
    "version": 3
   },
   "file_extension": ".py",
   "mimetype": "text/x-python",
   "name": "python",
   "nbconvert_exporter": "python",
   "pygments_lexer": "ipython3",
   "version": "3.7.3"
  }
 },
 "nbformat": 4,
 "nbformat_minor": 2
}
