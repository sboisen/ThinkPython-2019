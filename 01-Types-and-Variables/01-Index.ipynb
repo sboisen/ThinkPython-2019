{
 "cells": [
  {
   "cell_type": "markdown",
   "metadata": {},
   "source": [
    "# Think Python, Week 01: \n",
    "\n",
    "<img src='../meta/images/python-logo.png' style=\"float:right\">\n",
    "\n",
    "## Objectives\n",
    "\n",
    "-   Explore the most important types: `str`, `int`, `float`, `bool`\n",
    "-   Understand what variables are, how they're named, and how they work\n",
    "-   Learn about the reserved keywords and (some of) the built-in variables.\n",
    "-   Understand statements and expressions\n",
    "-   Understand operators and order of operations (ask if necessary)\n",
    "\n",
    "### Contents\n",
    "\n",
    "* [Chapter 1: The Way of the Program](#Chapter-1%3A-The-Way-of-the-Program)\n",
    "* [Chapter 2: Variables, Expressions and Statements](#Chapter-2%3A-Variables%2C-Expressions-and-Statements)\n",
    "* [Concept: Essential Practices of the Computer Scientist](#Concept%3A-Essential-Practices-of-the-Computer-Scientist)\n",
    "* [Homework](#Homework)\n",
    "---"
   ]
  },
  {
   "cell_type": "markdown",
   "metadata": {},
   "source": [
    "## Questions from Last Week?\n",
    "---\n",
    "\n",
    "> Confusion charges compound interest. \n",
    "\n",
    "### Refreshers\n",
    "\n",
    "To get the current version of Sean's slides:\n",
    "\n",
    "* Open a terminal (a regular terminal on Mac; an Anaconda terminal on Windows)\n",
    "* Change to your git directory: `cd git`\n",
    "* Change to the directory for the repository: `cd ThinkPython-2019`\n",
    "* Get the most recent slides from git: `git pull`\n",
    "  \n",
    "To run your Jupyter notebook locally:\n",
    "\n",
    "* In the same directory as above, `conda run jupyter lab`"
   ]
  },
  {
   "cell_type": "markdown",
   "metadata": {},
   "source": [
    "# Chapter 1: The Way of the Program\n",
    "## Values and Types\n",
    "---\n",
    "\n",
    "Any questions?"
   ]
  },
  {
   "cell_type": "markdown",
   "metadata": {},
   "source": [
    "## Using Jupyter to Run Python\n",
    "---\n",
    "\n",
    "* You can run (or evaluate) *code* cells (not Markdown).\n",
    "* Code cells have a blue border to indcate edit mode. \n",
    "* When you're in edit mode, Shift-Enter runs the cells and switches to command mode. \n",
    "* For now, we'll only type single statements in a cell. "
   ]
  },
  {
   "cell_type": "code",
   "execution_count": null,
   "metadata": {},
   "outputs": [],
   "source": [
    "print(\"Hello world!\")"
   ]
  },
  {
   "cell_type": "markdown",
   "metadata": {},
   "source": [
    "## Best Practice: Debugging\n",
    "---\n",
    "\n",
    "<img src='../meta/images/Calvin-building-character.jpg' style=\"float:right\">\n",
    "\n",
    "* It's *essential* to work hands-on with a computer, typically via the interpreter, until you really know what's happening.\n",
    "\n",
    "> Whenever you are experimenting with a new feature, you should try to make mistakes.\n",
    "\n",
    "* *Type it in*: it's more work, but gives you a better feel for what works, and *more immediate feedback on your mistakes* (critical to incremental improvement!)"
   ]
  },
  {
   "cell_type": "markdown",
   "metadata": {},
   "source": [
    "### Exercise: Break Something\n",
    "\n",
    "The book explains that programming languages are *formal languages*:\n",
    "\n",
    "> Formal languages tend to have strict syntax rules that govern the structure of statements.\n",
    "\n",
    "1. Is `3 + -3` valid Python syntax? What's its value?\n",
    "2. What about `3 x 3`? What's its value?\n",
    "3. How about `3 3`?\n",
    "3. What do you get when you execute these statements in a notebook cell?\n",
    "\n",
    "![Pulse Check](../meta/images/pulse-check.png)"
   ]
  },
  {
   "cell_type": "markdown",
   "metadata": {},
   "source": [
    "## Every Python Value has a Type\n",
    "---"
   ]
  },
  {
   "cell_type": "code",
   "execution_count": null,
   "metadata": {},
   "outputs": [],
   "source": [
    "type('Hello world!')"
   ]
  },
  {
   "cell_type": "code",
   "execution_count": null,
   "metadata": {},
   "outputs": [],
   "source": [
    "type(str)"
   ]
  },
  {
   "cell_type": "code",
   "execution_count": null,
   "metadata": {},
   "outputs": [],
   "source": [
    "type(type(type(type)))"
   ]
  },
  {
   "cell_type": "markdown",
   "metadata": {},
   "source": [
    "# Chapter 2: Variables, Expressions and Statements\n",
    "---"
   ]
  },
  {
   "cell_type": "markdown",
   "metadata": {},
   "source": [
    "## Assignment vs. Evaluation"
   ]
  },
  {
   "cell_type": "code",
   "execution_count": null,
   "metadata": {},
   "outputs": [],
   "source": [
    "x = 7"
   ]
  },
  {
   "cell_type": "code",
   "execution_count": null,
   "metadata": {},
   "outputs": [],
   "source": [
    "x"
   ]
  },
  {
   "cell_type": "code",
   "execution_count": null,
   "metadata": {},
   "outputs": [],
   "source": [
    "x * 6"
   ]
  },
  {
   "cell_type": "code",
   "execution_count": null,
   "metadata": {},
   "outputs": [],
   "source": [
    "x"
   ]
  },
  {
   "cell_type": "code",
   "execution_count": null,
   "metadata": {},
   "outputs": [],
   "source": [
    "x = x * 6"
   ]
  },
  {
   "cell_type": "code",
   "execution_count": null,
   "metadata": {},
   "outputs": [],
   "source": [
    "x"
   ]
  },
  {
   "cell_type": "markdown",
   "metadata": {},
   "source": [
    "## Discussion: Variable Names\n",
    "---\n",
    "\n",
    "Are the following variable names legal or illegal? Why?\n",
    "\n",
    "* `42`\n",
    "* `def`\n",
    "* `3rd`\n",
    "* `third`\n",
    "* `foo.bar`\n",
    "* `foo_bar`\n",
    "* `foo-bar`\n",
    "\n",
    "(If you're not sure, try them out later and see what happens.)"
   ]
  },
  {
   "cell_type": "markdown",
   "metadata": {},
   "source": [
    "## Errors in Programming\n",
    "---\n",
    "\n",
    "* Syntax errors are typically obvious once you understand more. Some common ones when starting out:\n",
    "    -   Missing or mismatched quotes\n",
    "    -   Undefined variables\n",
    "    -   Incompatible types for some operation\n",
    "-   Semantic errors are much trickier. Some common ones when starting\n",
    "    out:\n",
    "    -   You \"know\" what a value is (but you're wrong)\n",
    "    - You misunderstand how a function works\n",
    "    - You think all your data is organized a certain way (but it's not)\n",
    "-   Programming is about **narrowing the gap** between your intentions, your program, and reality"
   ]
  },
  {
   "cell_type": "markdown",
   "metadata": {},
   "source": [
    "## Gotchas\n",
    "---\n",
    "\n"
   ]
  },
  {
   "cell_type": "markdown",
   "metadata": {},
   "source": [
    "Jupyter runs Python in *interactive mode*. If the last line of a cell is an expression, Jupyter displays the value that's returned from evaluating it. But only the last line, and only if it's an expression (not a statement). "
   ]
  },
  {
   "cell_type": "code",
   "execution_count": null,
   "metadata": {},
   "outputs": [],
   "source": [
    "# no value is returned for a statement\n",
    "a = 1"
   ]
  },
  {
   "cell_type": "code",
   "execution_count": null,
   "metadata": {},
   "outputs": [],
   "source": [
    "# value is returned and displayed\n",
    "a"
   ]
  },
  {
   "cell_type": "code",
   "execution_count": null,
   "metadata": {},
   "outputs": [],
   "source": [
    "# the print statement produces output, but doesn't return a value\n",
    "print(a)"
   ]
  },
  {
   "cell_type": "markdown",
   "metadata": {},
   "source": [
    "---\n",
    "Python is **case-sensitive**."
   ]
  },
  {
   "cell_type": "code",
   "execution_count": null,
   "metadata": {},
   "outputs": [],
   "source": [
    "type('Right!')"
   ]
  },
  {
   "cell_type": "code",
   "execution_count": null,
   "metadata": {},
   "outputs": [],
   "source": [
    "# How is Jupyter helping here? \n",
    "Type('Wrong!')"
   ]
  },
  {
   "cell_type": "code",
   "execution_count": null,
   "metadata": {},
   "outputs": [],
   "source": [
    "foo = 42\n",
    "print(Foo)"
   ]
  },
  {
   "cell_type": "markdown",
   "metadata": {},
   "source": [
    "---\n",
    "Variables and values are *independent*"
   ]
  },
  {
   "cell_type": "code",
   "execution_count": null,
   "metadata": {},
   "outputs": [],
   "source": [
    "x = y = 23\n",
    "print(x)\n",
    "print(y)"
   ]
  },
  {
   "cell_type": "code",
   "execution_count": null,
   "metadata": {},
   "outputs": [],
   "source": [
    "y = 0\n",
    "print(x)\n",
    "print(y)"
   ]
  },
  {
   "cell_type": "markdown",
   "metadata": {},
   "source": [
    "## Best Practice: Longer Names = Shorter Debugging Sessions\n",
    "---\n",
    "\n",
    "Which of these variable names are you more likely to remember later?\n",
    "\n",
    "```\n",
    "n = \"Think Python 2019\"\n",
    "name = \"Think Python 2019\"\n",
    "classname = \"Think Python 2019\"\n",
    "```"
   ]
  },
  {
   "cell_type": "markdown",
   "metadata": {},
   "source": [
    "## Concept: Essential Practices of the Computer Scientist\n",
    "---\n",
    "\n",
    "* Reading and Writing\n",
    "> If you have a problem typing, you will have a problem learning to code ...\n",
    "* (Obsessive) attention to detail\n",
    "> The one skill that separates bad programmers from good programmers is attention to detail.\n",
    "* Spotting differences\n",
    "* Persistence\n",
    "\n",
    "(Credit: [Learn Python the Hard Way](http://learnpythonthehardway.org/))"
   ]
  },
  {
   "cell_type": "markdown",
   "metadata": {},
   "source": [
    "## Homework\n",
    "\n",
    "<img src=\"../meta/images/think_python2_medium.jpg\" style=\"float:right;\" width=\"100px;\"/>\n",
    "\n",
    "* Read chapter 3\n",
    "* At this point, *all* the exercises are very important for testing your understanding. "
   ]
  },
  {
   "cell_type": "markdown",
   "metadata": {},
   "source": [
    "## Additional Resources\n",
    "---\n",
    "\n",
    "I'll add some links for further reading each week, with challenge levels:\n",
    "- <img src=\"../meta/images/bd.png\" style=\"display: inline;\" /> = a little more challenging\n",
    "- <img src=\"../meta/images/bd.png\" style=\"display: inline;\" /><img src=\"../meta/images/bd.png\" style=\"display: inline;\" />  = pretty tough\n",
    "- <img src=\"../meta/images/bd.png\" style=\"display: inline;\" /><img src=\"../meta/images/bd.png\" style=\"display: inline;\" /><img src=\"../meta/images/bd.png\" style=\"display: inline;\" />  = for more experienced programmers\n",
    "\n",
    "---\n",
    "\n",
    "* <img src=\"../meta/images/bd.png\" style=\"display: inline;\" /> [Peer Instruction: A Teaching Method to Foster Deep\n",
    "    Understanding](http://cacm.acm.org/magazines/2012/2/145404-peer-instruction/fulltext) Key takeaway: if you really want to learn a subject, teach your peers. \n",
    "\n",
    "<img src=\"../meta/images/XKCD-tech_support_cheat_sheet.png\" style=\"width:600px;\" />\n",
    "\n"
   ]
  }
 ],
 "metadata": {
  "kernelspec": {
   "display_name": "Python 3",
   "language": "python",
   "name": "python3"
  },
  "language_info": {
   "codemirror_mode": {
    "name": "ipython",
    "version": 3
   },
   "file_extension": ".py",
   "mimetype": "text/x-python",
   "name": "python",
   "nbconvert_exporter": "python",
   "pygments_lexer": "ipython3",
   "version": "3.7.3"
  }
 },
 "nbformat": 4,
 "nbformat_minor": 2
}
