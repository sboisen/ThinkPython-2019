{
 "cells": [
  {
   "cell_type": "markdown",
   "metadata": {},
   "source": [
    "# Think Python, Week 11: Tuples\n",
    "\n",
    "<img src='../meta/images/python-logo.png' style=\"float:right\">\n",
    "\n",
    "## Objectives\n",
    "---\n",
    "\n",
    "* Understand the `tuple` data type and how it relates to lists and dictionaries\n",
    "* Explore iterators\n",
    "* Get started with the biblia API"
   ]
  },
  {
   "cell_type": "markdown",
   "metadata": {},
   "source": [
    "## Tuple Basics\n",
    "---\n",
    "\n",
    "* Tuples are a comma separated sequence of values\n",
    "* They share many of the same operations as lists: `len()`, `in`, iteration (over keys)\n",
    "* Tuples are *immutable*\n",
    "    * They can be used for dictionary keys.\n",
    "    * They can't be modified, but they can be replaced\n",
    "* Tuple assignment is a convenient way to gather several values"
   ]
  },
  {
   "cell_type": "code",
   "execution_count": null,
   "metadata": {},
   "outputs": [],
   "source": [
    "mytup = 0, 1, 2, 3, 4"
   ]
  },
  {
   "cell_type": "code",
   "execution_count": null,
   "metadata": {},
   "outputs": [],
   "source": [
    "len(mytup)"
   ]
  },
  {
   "cell_type": "code",
   "execution_count": null,
   "metadata": {},
   "outputs": [],
   "source": [
    "mytup[-2]"
   ]
  },
  {
   "cell_type": "code",
   "execution_count": null,
   "metadata": {},
   "outputs": [],
   "source": [
    "23 in mytup"
   ]
  },
  {
   "cell_type": "code",
   "execution_count": null,
   "metadata": {},
   "outputs": [],
   "source": [
    "mytup[0] = 'zero'"
   ]
  },
  {
   "cell_type": "code",
   "execution_count": null,
   "metadata": {},
   "outputs": [],
   "source": [
    "tuple('zero')"
   ]
  },
  {
   "cell_type": "code",
   "execution_count": null,
   "metadata": {},
   "outputs": [],
   "source": [
    "year, month, date = '2019.08.20'.split('.')"
   ]
  },
  {
   "cell_type": "code",
   "execution_count": null,
   "metadata": {},
   "outputs": [],
   "source": [
    "print(date)"
   ]
  },
  {
   "cell_type": "code",
   "execution_count": null,
   "metadata": {},
   "outputs": [],
   "source": [
    "print(month + \"/\" + date + \"/\" + year)"
   ]
  },
  {
   "cell_type": "markdown",
   "metadata": {},
   "source": [
    "### Tuples Use Cases\n",
    "\n",
    "* Iterate over keys and values from a dictionary\n",
    "* Pass multiple values to a function\n",
    "* Return multiple values from a function\n",
    "* Use multiple values as dictionary keys"
   ]
  },
  {
   "cell_type": "code",
   "execution_count": null,
   "metadata": {},
   "outputs": [],
   "source": [
    "mydict = {\"LLS:14.0.1\": \"New Bible Dictionary\",\n",
    "       \"LLS:14.0.3\": \"Harper's Bible Dictionary\", \n",
    "       \"LLS:HLMNILLBBLDICT\": \"Holman Illustrated Bible Dictionary\",\n",
    "       \"LLS:14.0.4\": \"The Anchor Yale Bible Dictionary\",\n",
    "       }\n",
    "print(list(mydict.items()))"
   ]
  },
  {
   "cell_type": "code",
   "execution_count": null,
   "metadata": {},
   "outputs": [],
   "source": [
    "# use tuple assignment\n",
    "for k,v in mydict.items():\n",
    "    print(v, k)"
   ]
  },
  {
   "cell_type": "code",
   "execution_count": null,
   "metadata": {},
   "outputs": [],
   "source": [
    "def manyargs(*args):\n",
    "    for arg in args:\n",
    "        print(arg)\n",
    "        \n",
    "manyargs(2, 4, 6)"
   ]
  },
  {
   "cell_type": "markdown",
   "metadata": {},
   "source": [
    "## Using the Biblia API\n",
    "---"
   ]
  },
  {
   "cell_type": "code",
   "execution_count": null,
   "metadata": {},
   "outputs": [],
   "source": [
    "# standard Python modules for working with and opening URLs\n",
    "import urllib\n",
    "\n",
    "# put your API key in key.py like this\n",
    "# KEY = 'abcdefghi'\n",
    "from key import KEY\n"
   ]
  },
  {
   "cell_type": "code",
   "execution_count": null,
   "metadata": {},
   "outputs": [],
   "source": [
    "KEY"
   ]
  },
  {
   "cell_type": "code",
   "execution_count": null,
   "metadata": {},
   "outputs": [],
   "source": [
    "# the foundation for a URL\n",
    "def construct_base_url(bible, format):\n",
    "    \"\"\"Return the base URL for BIBLE and format. \n",
    "    BIBLE is 'KJV' or 'LEB'\n",
    "    format is 'xml' or 'json' or 'txt'\n",
    "    \"\"\"\n",
    "    base_url = 'http://api.biblia.com/v1/bible/content/'\n",
    "    url = base_url + bible + '.' + format\n",
    "    return url"
   ]
  },
  {
   "cell_type": "code",
   "execution_count": null,
   "metadata": {},
   "outputs": [],
   "source": [
    "base = construct_base_url('LEB', 'txt')\n",
    "base"
   ]
  },
  {
   "cell_type": "code",
   "execution_count": null,
   "metadata": {},
   "outputs": [],
   "source": [
    "def construct_url(base_url, passage, apikey=KEY):\n",
    "    \"\"\"Ensure URL, PASSAGE, and APIKEY are properly combined and\n",
    "    encoded for opening a resource. Assumes the Bible version and\n",
    "    return type are already in URL.\n",
    "    \"\"\"\n",
    "    return base_url + '?' + urllib.parse.urlencode({'passage': passage,\n",
    "                                                    'key': apikey})"
   ]
  },
  {
   "cell_type": "code",
   "execution_count": null,
   "metadata": {},
   "outputs": [],
   "source": [
    "url = construct_url(base, 'Mk4:1-9')\n",
    "url"
   ]
  },
  {
   "cell_type": "code",
   "execution_count": null,
   "metadata": {},
   "outputs": [],
   "source": [
    "# get the content from the URL\n",
    "def fetch_url(url):\n",
    "    req = urllib.request.urlopen(url)\n",
    "    return req.read()"
   ]
  },
  {
   "cell_type": "code",
   "execution_count": null,
   "metadata": {},
   "outputs": [],
   "source": [
    "content = fetch_url(url)\n",
    "content"
   ]
  },
  {
   "cell_type": "code",
   "execution_count": null,
   "metadata": {},
   "outputs": [],
   "source": [
    "content.decode('utf-8')"
   ]
  },
  {
   "cell_type": "markdown",
   "metadata": {},
   "source": [
    "## Homework\n",
    "---\n",
    "\n",
    "* Read Chapter 13 and do the exercises. \n",
    "* Experiment with different parameters for [the Biblia API](https://bibliaapi.com/docs/)\n",
    "  * Try retrieving other formats. \n",
    "  * Wrap the pieces above into a single function (afterwards, you can compare to mine in [biblia.py](biblia.py)\n",
    "* Read the docs for [urllib](https://docs.python.org/3/library/urllib.html) and [urllib\\.request](https://docs.python.org/3/library/urllib.request.html#module-urllib.request)"
   ]
  },
  {
   "cell_type": "code",
   "execution_count": null,
   "metadata": {},
   "outputs": [],
   "source": []
  }
 ],
 "metadata": {
  "kernelspec": {
   "display_name": "Python 3",
   "language": "python",
   "name": "python3"
  },
  "language_info": {
   "codemirror_mode": {
    "name": "ipython",
    "version": 3
   },
   "file_extension": ".py",
   "mimetype": "text/x-python",
   "name": "python",
   "nbconvert_exporter": "python",
   "pygments_lexer": "ipython3",
   "version": "3.7.3"
  }
 },
 "nbformat": 4,
 "nbformat_minor": 2
}
