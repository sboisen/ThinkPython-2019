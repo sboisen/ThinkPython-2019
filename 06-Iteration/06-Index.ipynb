{
 "cells": [
  {
   "cell_type": "markdown",
   "metadata": {},
   "source": [
    "# Think Python, Week 6: Iteration\n",
    "\n",
    "<img src='../meta/images/python-logo.png' style=\"float:right\">\n",
    "\n",
    "## Objectives\n",
    "---\n",
    "\n",
    "* Understanding assignment and updating variables\n",
    "* Use the increment and decrement operators\n",
    "* Understanding iteration"
   ]
  },
  {
   "cell_type": "markdown",
   "metadata": {},
   "source": [
    "## Questions from Last Week's Reading\n",
    "---\n"
   ]
  },
  {
   "cell_type": "markdown",
   "metadata": {},
   "source": [
    "### Assignment\n",
    "\n",
    "* You can change the value of a variable after you've set it\n",
    "    * In loops especially, this is common\n",
    "* In an assignment statement, the right side is evaluated *first*\n",
    "* Special assignment operators `+=` (and kin)"
   ]
  },
  {
   "cell_type": "code",
   "execution_count": null,
   "metadata": {},
   "outputs": [],
   "source": [
    "x = 3\n",
    "# same as x = x + 1\n",
    "x += 1         \n",
    "print(x)"
   ]
  },
  {
   "cell_type": "markdown",
   "metadata": {},
   "source": [
    "### `while` loops\n",
    "\n",
    "* Think carefully about the termination condition"
   ]
  },
  {
   "cell_type": "markdown",
   "metadata": {},
   "source": [
    "## Exercise 06-1: `print_n()`\n",
    "\n",
    "> Rewrite the function `print_n()` using iteration rather than recursion\n",
    "\n",
    "![Pulse Check](../meta/images/pulse-check.png)\n",
    "\n",
    "[My solution for Exercise 06-1](#Exercise-06-1-Solution)"
   ]
  },
  {
   "cell_type": "markdown",
   "metadata": {},
   "source": [
    "### Exercise 06-2: Prepub Fulfillment\n",
    "\n",
    "Write a function `track_prepub()` that \n",
    "\n",
    "* is called with the fulfillment amount and unit price\n",
    "* loops reading orders from the user and printing the percentage fulfilled\n",
    "* stops when the fulfillment amount is reached\n",
    "\n",
    "Hints:\n",
    "\n",
    "* You'll need the `input()` function introduced in chapter five\n",
    "* Use a variable to keep track of how many units have been ordered\n",
    "* You may want a function like `percentage()` that returns an integer representing a percentage given two numbers. Integer precision is sufficient for this exercise. \n",
    "    * E.g., `percentage(3, 5)` returns `60`"
   ]
  },
  {
   "cell_type": "markdown",
   "metadata": {},
   "source": [
    "Example:\n",
    "\n",
    "```\n",
    ">>> track_prepub(20000, 19.99)\n",
    "How many ordered? 700\n",
    "Amount fulfilled: 69 %\n",
    "How many ordered? 300\n",
    "Amount fulfilled: 99 %\n",
    "How many ordered? 100\n",
    "Amount fulfilled: 109 %\n",
    "Fulfilled! 1100 orders\n",
    "```\n",
    "\n",
    "![Pulse Check](../meta/images/pulse-check.png)\n",
    "\n",
    "[My solution for Exercise 06-2](#Exercise-06-2-Solution)"
   ]
  },
  {
   "cell_type": "markdown",
   "metadata": {},
   "source": [
    "## Data Structures: URLs\n",
    "---\n",
    "\n",
    "* One of the most important data schemes of recent decades\n",
    "* 'Just' a string, but *structured*\n",
    "* URL = Uniform Resource Locator ([Wikipedia: Uniform resource locator](https://en.wikipedia.org/wiki/Uniform_resource_locator))\n",
    "* Make others' lives easier by using URLs to enrich your communications "
   ]
  },
  {
   "cell_type": "markdown",
   "metadata": {},
   "source": [
    "### The Anatomy of a URL\n",
    "\n",
    "<img src='../meta/images/URL-anatomy.png' />\n",
    "\n",
    "\n",
    "(Hat tip: https://moz.com/blog/seo-cheat-sheet-anatomy-of-a-url)\n",
    "\n",
    "* Specific syntax for constructing a valid URL\n",
    "* More general elements on the left, more detailed elements on the right\n",
    "* Some elements have a limited set of values\n",
    "  * Other protocols: ftp, mailto, news, file\n",
    "  * Limited set of Top-Level Domains (TLDs)\n",
    "* Some characters are special: `:`, `/`, `?`, `#`, `[]`, `@`\n",
    "  * These and non-ASCII characters need special encoding\n",
    "\n",
    "Other examples:\n",
    "\n",
    "* https://www.linkedin.com/in/seanboisen\n",
    "* https://businessdesk/Users/Edit.aspx?UserID=149006 (that's my civilian Faithlife identity)\n",
    "* https://www.amazon.com/Think-Python-Like-Computer-Scientist/dp/1491939362 (1491939362 is the ISBN-10 identifier)\n",
    "* Same ISBN on Goodreads: https://www.goodreads.com/book/isbn?isbn=1491939362\n",
    "\n",
    "* New Bible Dictionary product page: https://www.logos.com/product/310/the-new-bible-dictionary-third-edition\n",
    "* In BusinessDesk (via SKU): https://businessdesk/Products/EditProduct.aspx?ProductId=310\n",
    "* In BusinessDesk (via resource ID): https://businessdesk/Products/Tokens/Libronix/Details.aspx?ProductToken=LLS%3a14.0.1\n",
    "* In Library Manager (via resource ID): https://librarymanager.lrscorp.net/metadata/LLS%3a14.0.1"
   ]
  },
  {
   "cell_type": "markdown",
   "metadata": {},
   "source": [
    "### Exercise 06-3: `makeURL()`\n",
    "\n",
    "Write a function that constructs a URL given the elements above. \n",
    "\n",
    "* Assume the protocol is always `https`\n",
    "* Ignore `parameter` and `named anchor` for this exercise. \n",
    "* Don't forget to handle subdomains (whether empty or provided). \n",
    "\n",
    "```\n",
    ">>> makeURL(subdomain=\"music\", root_domain=\"faithlife\", tld=\"com\", path=\"\", page=\"\")\n",
    "'https://music.faithlife.com'\n",
    "\n",
    ">>> makeURL(subdomain=\"\", root_domain=\"faithlife\", tld=\"com\", path=\"think-python\", page=\"activity\")\n",
    "'https://faithlife.com/think-python/activity'\n",
    "\n",
    ">>> makeURL(subdomain=\"www\", root_domain=\"logos\", tld=\"com\", path=\"product\", page=\"310/the-new-bible-dictionary-third-edition\")\n",
    "'https://www.logos.com/product/310/the-new-bible-dictionary-third-edition'\n",
    "```\n",
    "![Pulse Check](../meta/images/pulse-check.png)\n",
    "\n",
    "[Exercise 06-3 Solution](#Exercise-06-3-Solution)"
   ]
  },
  {
   "cell_type": "markdown",
   "metadata": {},
   "source": [
    "### Discussion\n",
    "\n",
    "* Would it be better to have a separate function for creating the string for subdomain/domain/TLD? Why or why not? \n",
    "* Wouldn't it be great if you could define optional parameters, and give default values to parameters?\n",
    "* How would you extend this function to cover URL parameters? What if there were multiple parameters? "
   ]
  },
  {
   "cell_type": "markdown",
   "metadata": {},
   "source": [
    "## The 5-Minute Guide to Web APIs\n",
    "---\n",
    "\n",
    "* API = Application Programming Interface, a method for software components to talk to each other\n",
    "* The future of the web is machine-to-machine communcation\n",
    "* Four aspects of a RESTful web service (web API)\n",
    "    * Base URI for the service (e.g. `http://api.biblia.com/v1/bible`)\n",
    "    * Supported media type(s) (Biblia: JSON/text and XML)\n",
    "    * The methods supported by the API (Biblia: `Content`, `Search`, `Parse`, and others)\n",
    "    * Hypertext-drivends"
   ]
  },
  {
   "cell_type": "markdown",
   "metadata": {},
   "source": [
    "### Biblia's `Content` Service\n",
    "\n",
    "-   Return content for a specified Bible\n",
    "-   Example:\n",
    "    [http://api.biblia.com/v1/bible/content/LEB.txt?passage=Mark+4:9&key=MyAPIKey](http://api.biblia.com/v1/bible/content/LEB.txt?passage=Mark+4:9&key=5ed223a198307ffde317add78fe15710)\n",
    "-   [Documentation](http://api.biblia.com/docs/Bible_Content)\n",
    "-   Biblia API methods are read-only"
   ]
  },
  {
   "cell_type": "markdown",
   "metadata": {},
   "source": [
    "## Homework\n",
    "---\n",
    "\n",
    "* Catch up\n",
    "* Read Chapter 8 and do the exercises. \n",
    "* Read [the Biblia API documentation](http://api.biblia.com/docs/Bible_Content), get yourself an [API Key](http://bibliaapi.com/docs/API_Keys), and try writing some code to exercise it. \n",
    "    * <img src=\"../meta/images/bd.png\" style=\"display: inline;\" /><img src=\"../meta/images/bd.png\" style=\"display: inline;\" /> See [biblia.py](https://github.com/sboisen/training/blob/master/ThinkPython/Week05/biblia.py) for one example after you've tried yourself: this uses some Python elements we haven't introduced yet. \n"
   ]
  },
  {
   "cell_type": "markdown",
   "metadata": {},
   "source": [
    "## Additional Resources\n",
    "---\n",
    "\n",
    "* [Validate an URL address - FormValidation](http://formvalidation.io/validators/uri/) checks URL syntax\n",
    "* [Url Parser from FreeFormatter.com](http://www.freeformatter.com/url-parser-query-string-splitter.html) parses a URL and shows you the components. However, it doesn't flag invalid URLs. \n",
    "* <img src=\"../meta/images/bd.png\" style=\"display: inline;\" />The standard [urllib.parse](https://docs.python.org/3/library/urllib.parse.html) module in Python will take a string representing a URL and parse it into its various components. \n",
    "* <img src=\"../meta/images/bd.png\" style=\"display: inline;\" /><img src=\"../meta/images/bd.png\" style=\"display: inline;\" />[The W3C Specification for URLs (1994)](http://www.w3.org/Addressing/URL/url-spec.txt)\n",
    "* <img src=\"../meta/images/bd.png\" style=\"display: inline;\" />Wondering why some sites use 'www' as a subdomain? See http://no-www.org/ for the anti-www perspective. \n",
    "\n",
    "<img src=\"../meta/images/XKCD-automating-tasks.png\" />"
   ]
  },
  {
   "cell_type": "markdown",
   "metadata": {},
   "source": [
    "## Exercise 06-1 Solution\n",
    "\n",
    "> Rewrite `print_n()` using iteration rather than recursion"
   ]
  },
  {
   "cell_type": "code",
   "execution_count": null,
   "metadata": {},
   "outputs": [],
   "source": [
    "def print_n(s, n):\n",
    "    \"\"\"Print s n times.\"\"\"\n",
    "    while n > 0:\n",
    "        print(s)\n",
    "        n -= 1\n",
    "print_n('hey', 2)"
   ]
  },
  {
   "cell_type": "markdown",
   "metadata": {},
   "source": [
    "## Exercise 06-2 Solution\n",
    "---\n",
    "\n",
    "The prepub fulfillment exercise."
   ]
  },
  {
   "cell_type": "code",
   "execution_count": null,
   "metadata": {},
   "outputs": [],
   "source": [
    "# Python has better, build-in ways to do this\n",
    "def percentage(numerator, denominator):\n",
    "    \"\"\"Return an integer representing a percentage, given numerator and denominator. \"\"\"\n",
    "    return int((numerator/denominator)*100)\n",
    "    \n",
    "percentage(3, 5)"
   ]
  },
  {
   "cell_type": "code",
   "execution_count": null,
   "metadata": {},
   "outputs": [],
   "source": [
    "def track_prepub(fulfillment_amount, unit_price):\n",
    "    \"\"\"Collect orders from user input until the amount is fulfilled. \"\"\"\n",
    "    orders = 0\n",
    "    while (orders * unit_price) < fulfillment_amount:\n",
    "        new_orders = int(input(\"How many ordered?\"))\n",
    "        orders += new_orders\n",
    "        print(\"Amount fulfilled:\", percentage(orders * unit_price, fulfillment_amount), \"%\")\n",
    "    print(\"Fulfilled!\", orders, \"orders\")\n",
    "    return orders"
   ]
  },
  {
   "cell_type": "code",
   "execution_count": null,
   "metadata": {},
   "outputs": [],
   "source": [
    "track_prepub(20000, 19.99)"
   ]
  },
  {
   "cell_type": "markdown",
   "metadata": {},
   "source": [
    "### Discussion\n",
    "\n",
    "* Assigning an initial value to `orders`\n",
    "* Parenthesis for clarity\n",
    "* Using `input()`\n",
    "    * Converting `str` to `int`\n",
    "* Should you print the fulfillment amount before or after receiving new orders? \n",
    "* Do we need a `percentage` function? \n",
    "    * `int` vs `float` values for percentages\n",
    "* Printing vs returning values\n",
    "    * Should `percentage()` print a value, or return one? "
   ]
  },
  {
   "cell_type": "markdown",
   "metadata": {},
   "source": [
    "## Exercise 06-3 Solution"
   ]
  },
  {
   "cell_type": "code",
   "execution_count": null,
   "metadata": {},
   "outputs": [],
   "source": [
    "def makeURL(subdomain, root_domain, tld, path, page):\n",
    "    # hardwire protocol for now: better long-term to define it as a parameter\n",
    "    protocol='https'\n",
    "    # should validate tld, check character validity, etc.\n",
    "    # syntax-only characters like '://' aren't parameters, they're the knowledge encapsulated in the function\n",
    "    base = protocol + '://'\n",
    "    domainstr = root_domain + '.' + tld\n",
    "    if subdomain:\n",
    "        domainstr = subdomain + '.' + domainstr\n",
    "    base = base + domainstr\n",
    "    if path:\n",
    "        base = base + '/' + path\n",
    "    if page:\n",
    "        base = base + '/' + page\n",
    "    return base"
   ]
  },
  {
   "cell_type": "code",
   "execution_count": null,
   "metadata": {},
   "outputs": [],
   "source": [
    "makeURL(subdomain=\"music\", root_domain=\"faithlife\", tld=\"com\", path=\"\", page=\"\")"
   ]
  },
  {
   "cell_type": "code",
   "execution_count": null,
   "metadata": {},
   "outputs": [],
   "source": [
    "makeURL(subdomain=\"\", root_domain=\"faithlife\", tld=\"com\", path=\"think-python\", page=\"activity\")"
   ]
  },
  {
   "cell_type": "code",
   "execution_count": null,
   "metadata": {},
   "outputs": [],
   "source": [
    "# New Bible Dictionary product page\n",
    "makeURL(subdomain=\"www\", root_domain=\"logos\", tld=\"com\", path=\"product\", page=\"310/the-new-bible-dictionary-third-edition\")"
   ]
  }
 ],
 "metadata": {
  "kernelspec": {
   "display_name": "Python 3",
   "language": "python",
   "name": "python3"
  },
  "language_info": {
   "codemirror_mode": {
    "name": "ipython",
    "version": 3
   },
   "file_extension": ".py",
   "mimetype": "text/x-python",
   "name": "python",
   "nbconvert_exporter": "python",
   "pygments_lexer": "ipython3",
   "version": "3.7.3"
  }
 },
 "nbformat": 4,
 "nbformat_minor": 2
}
