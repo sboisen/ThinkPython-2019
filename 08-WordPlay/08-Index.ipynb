{
 "cells": [
  {
   "cell_type": "markdown",
   "metadata": {},
   "source": [
    "# Think Python, Week 8: Word Play\n",
    "\n",
    "<img src='../meta/images/python-logo.png' style=\"float:right\">\n",
    "\n",
    "## Objectives\n",
    "---\n",
    "\n",
    "* Understand how to read strings from files\n",
    "* Learn more about string methods"
   ]
  },
  {
   "cell_type": "markdown",
   "metadata": {},
   "source": [
    "## Catching Up\n",
    "---"
   ]
  },
  {
   "cell_type": "markdown",
   "metadata": {},
   "source": [
    "## Questions from Last Week's Reading\n",
    "---\n"
   ]
  },
  {
   "cell_type": "markdown",
   "metadata": {},
   "source": [
    "## File Reading Basics\n",
    "\n",
    "* File names and file objects are different. \n",
    "* You have to *open* a file object in order to read it.\n",
    "    * Later we'll see different ways to open a file object: for now, defaults are good enough.\n",
    "* One of the most common ways to read an open file object is by line, using `readline()`.\n",
    "* Reading strings from files often includes whitespace characters\n",
    "    * These are represented in Python as *escape sequences* like `'\\n'`.\n",
    "    * You can remove these extraneous characters with `strip()`."
   ]
  },
  {
   "cell_type": "code",
   "execution_count": 7,
   "metadata": {},
   "outputs": [
    {
     "data": {
      "text/plain": [
       "<_io.TextIOWrapper name='words.txt' mode='r' encoding='UTF-8'>"
      ]
     },
     "execution_count": 7,
     "metadata": {},
     "output_type": "execute_result"
    }
   ],
   "source": [
    "filename = 'words.txt'\n",
    "filein = open(filename)\n",
    "filein"
   ]
  },
  {
   "cell_type": "code",
   "execution_count": 8,
   "metadata": {},
   "outputs": [
    {
     "data": {
      "text/plain": [
       "'aa\\n'"
      ]
     },
     "execution_count": 8,
     "metadata": {},
     "output_type": "execute_result"
    }
   ],
   "source": [
    "line0 = filein.readline()\n",
    "line0"
   ]
  },
  {
   "cell_type": "code",
   "execution_count": 9,
   "metadata": {},
   "outputs": [
    {
     "data": {
      "text/plain": [
       "3"
      ]
     },
     "execution_count": 9,
     "metadata": {},
     "output_type": "execute_result"
    }
   ],
   "source": [
    "len(line0)"
   ]
  },
  {
   "cell_type": "code",
   "execution_count": 10,
   "metadata": {},
   "outputs": [
    {
     "data": {
      "text/plain": [
       "'aa'"
      ]
     },
     "execution_count": 10,
     "metadata": {},
     "output_type": "execute_result"
    }
   ],
   "source": [
    "line0.strip()"
   ]
  },
  {
   "cell_type": "markdown",
   "metadata": {},
   "source": [
    "### Group Exercises for 9-1 through 9-6"
   ]
  },
  {
   "cell_type": "markdown",
   "metadata": {},
   "source": [
    "## Debugging\n",
    "---\n",
    "\n",
    "> Program testing can be used to show the presence of bugs, but never to show their absence! \n",
    ">\n",
    "> — [Edsger W. Dijkstra](https://en.wikipedia.org/wiki/Edsger_W._Dijkstra)\n",
    "\n",
    "* Bugs happen (and happen again).\n",
    "* Testing is critical to identifying bugs.\n",
    "    * It's worth the time to create *test suites*\n",
    "    * *Test Driven Development*: write the tests *before* you write the code\n",
    "    \n",
    "<img src=\"../meta/images/TestDrivenDevelopment.png\"/>"
   ]
  },
  {
   "cell_type": "markdown",
   "metadata": {},
   "source": [
    "## Interesting Problems\n",
    "\n",
    "* Convert a list of Bible references to Biblia links\n",
    "* Filter a file into a subset of rows that match certain criteria\n",
    "* Group rows with a shared attribute into a new row\n",
    "* Combine a file with (user ID, name) and another with (user ID, address) into a single file\n",
    "\n",
    "If you can't think of one, look at LogosSearches.txt, which has the 1000 most common searches in Logos from the last three years, and think of some interesting ways to process this file. \n",
    "\n",
    "(We'll be learning richer data structures soon, and that will help with these kinds of problems.)"
   ]
  },
  {
   "cell_type": "markdown",
   "metadata": {},
   "source": [
    "## Homework\n",
    "---\n",
    "\n",
    "* Catch up\n",
    "* Read Chapter 10 and do the exercises. \n",
    "* Identify an interesting problem in your space that uses files and strings. Solve it if you can, or bring your problem statement and questions to class for next week. "
   ]
  },
  {
   "cell_type": "markdown",
   "metadata": {},
   "source": [
    "## Additional Resources\n",
    "---\n",
    "\n",
    "* <img src=\"../meta/images/bd.png\" style=\"display: inline;\" /><img src=\"../meta/images/bd.png\" style=\"display: inline;\" /> [Unicode In Python, Completely Demystified](http://farmdev.com/talks/unicode/)"
   ]
  },
  {
   "cell_type": "code",
   "execution_count": null,
   "metadata": {},
   "outputs": [],
   "source": []
  }
 ],
 "metadata": {
  "kernelspec": {
   "display_name": "Python 3",
   "language": "python",
   "name": "python3"
  },
  "language_info": {
   "codemirror_mode": {
    "name": "ipython",
    "version": 3
   },
   "file_extension": ".py",
   "mimetype": "text/x-python",
   "name": "python",
   "nbconvert_exporter": "python",
   "pygments_lexer": "ipython3",
   "version": "3.7.3"
  }
 },
 "nbformat": 4,
 "nbformat_minor": 2
}
