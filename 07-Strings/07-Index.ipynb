{
 "cells": [
  {
   "cell_type": "markdown",
   "metadata": {},
   "source": [
    "# Think Python, Week 7: Strings\n",
    "\n",
    "<img src='../meta/images/python-logo.png' style=\"float:right\">\n",
    "\n",
    "> There should be one-- and preferably only one --obvious way to do it.\n",
    "> \n",
    "> Although that way may not be obvious at first unless you're Dutch.\n",
    "\n",
    "From the Zen of Python, by Tim Peters (`import this`)\n",
    "\n",
    "## Objectives\n",
    "---\n",
    "\n",
    "* Understand string basics\n",
    "* Understand sequence basics: `len`, indexing, slices, `in` operator\n",
    "* Introduce string *methods*"
   ]
  },
  {
   "cell_type": "markdown",
   "metadata": {},
   "source": [
    "## Questions from Last Week's Reading\n",
    "---\n"
   ]
  },
  {
   "cell_type": "markdown",
   "metadata": {},
   "source": [
    "## String Basics\n",
    "\n",
    "* A string is a sequence of characters\n",
    "    * Sequences have a length\n",
    "* You access an individual character by its index\n",
    "    * String/sequence indices are *offsets*\n",
    "    * Real computer scientists count from zero\n",
    "    * An index can be a variable or some Python expression\n",
    "    * Negative indices count from the end of the string\n",
    "* Strings are *immutable*: you can't change an element directly"
   ]
  },
  {
   "cell_type": "markdown",
   "metadata": {},
   "source": [
    "### String Quiz"
   ]
  },
  {
   "cell_type": "code",
   "execution_count": null,
   "metadata": {},
   "outputs": [],
   "source": [
    "foo = \"bar\""
   ]
  },
  {
   "cell_type": "code",
   "execution_count": null,
   "metadata": {},
   "outputs": [],
   "source": [
    "# expressions\n",
    "foo[len(foo)]"
   ]
  },
  {
   "cell_type": "code",
   "execution_count": null,
   "metadata": {},
   "outputs": [],
   "source": [
    "foo[-len(foo)]"
   ]
  },
  {
   "cell_type": "code",
   "execution_count": null,
   "metadata": {},
   "outputs": [],
   "source": [
    "foo[-1] = 'z'"
   ]
  },
  {
   "cell_type": "code",
   "execution_count": null,
   "metadata": {},
   "outputs": [],
   "source": [
    "baz = foo[:-1] + 'z'\n",
    "print(baz)\n",
    "print(foo)"
   ]
  },
  {
   "cell_type": "code",
   "execution_count": null,
   "metadata": {},
   "outputs": [],
   "source": [
    "bool(foo)"
   ]
  },
  {
   "cell_type": "markdown",
   "metadata": {},
   "source": [
    "### Exercise 07-01: `middle(s)`\n",
    "\n",
    "* Write a function `middle()` that takes a string and returns the \"middle\" letter\n",
    "    * If the length of the string is an even number, return the letter after the middle position (e.g. if 10 characters, return the character after position 5)\n",
    "    \n",
    "```\n",
    ">>> middle('bar')\n",
    "'a'\n",
    ">>> middle('python')\n",
    "'h'\n",
    "```\n",
    "    \n",
    "![Pulse Check](../meta/images/pulse-check.png)\n",
    "\n",
    "[My solution for Exercise 07-1](#Exercise-07-1-Solution)    "
   ]
  },
  {
   "cell_type": "markdown",
   "metadata": {},
   "source": [
    "### Exercise 07-02: `vowel(s)\n",
    "\n",
    "* Write a function `vowels()` that takes a string and returns a string consisting of all the vowels (ignore 'sometimes y')\n",
    "    \n",
    "```\n",
    ">>> vowels('bar')\n",
    "'a'\n",
    ">>> vowels('python')\n",
    "'o'\n",
    ">>> vowels('BANANAS!')\n",
    "'AAA'\n",
    "```\n",
    "    \n",
    "![Pulse Check](../meta/images/pulse-check.png)\n",
    "\n",
    "[My solution for Exercise 07-2](#Exercise-07-2-Solution)    "
   ]
  },
  {
   "cell_type": "markdown",
   "metadata": {},
   "source": [
    "## String Slices\n",
    "\n",
    "* Return the part of a string from one index to another\n",
    "* Expressions and negative indices work here too"
   ]
  },
  {
   "cell_type": "markdown",
   "metadata": {},
   "source": [
    "<img src='../meta/images/slice-indices.png' width=\"600 px;\"/>\n"
   ]
  },
  {
   "cell_type": "code",
   "execution_count": null,
   "metadata": {},
   "outputs": [],
   "source": [
    "fruit = 'kumquat'"
   ]
  },
  {
   "cell_type": "code",
   "execution_count": null,
   "metadata": {},
   "outputs": [],
   "source": [
    "fruit[3:-1]"
   ]
  },
  {
   "cell_type": "code",
   "execution_count": null,
   "metadata": {},
   "outputs": [],
   "source": [
    "fruit[3:3]"
   ]
  },
  {
   "cell_type": "code",
   "execution_count": null,
   "metadata": {},
   "outputs": [],
   "source": [
    "fruit[3:0]"
   ]
  },
  {
   "cell_type": "code",
   "execution_count": null,
   "metadata": {},
   "outputs": [],
   "source": [
    "fruit[len(fruit)/2:]"
   ]
  },
  {
   "cell_type": "code",
   "execution_count": null,
   "metadata": {},
   "outputs": [],
   "source": [
    "fruit[int(len(fruit)/2):]"
   ]
  },
  {
   "cell_type": "markdown",
   "metadata": {},
   "source": [
    "## String Methods\n",
    "---\n",
    "\n",
    "* Methods and functions are called differently\n",
    "* Methods are invoked on a value using dot notation"
   ]
  },
  {
   "cell_type": "code",
   "execution_count": null,
   "metadata": {},
   "outputs": [],
   "source": [
    "'foo'.upper()"
   ]
  },
  {
   "cell_type": "code",
   "execution_count": null,
   "metadata": {},
   "outputs": [],
   "source": [
    "upper('foo')"
   ]
  },
  {
   "cell_type": "markdown",
   "metadata": {},
   "source": [
    "### Exercise 07-03: `find_double(s)`\n",
    "\n",
    "* Write a function `find_double()` that returns the index of the first doubled consonants in a string, or -1 if there are none (using a `while` loop)\n",
    "    \n",
    "```\n",
    ">>> find_double('parallel')\n",
    "4\n",
    ">>> find_double('abracadabra')\n",
    "-1\n",
    "```\n",
    "    \n",
    "![Pulse Check](../meta/images/pulse-check.png)\n",
    "\n",
    "[My solution for Exercise 07-3](#Exercise-07-3-Solution)    "
   ]
  },
  {
   "cell_type": "markdown",
   "metadata": {},
   "source": [
    "## Homework\n",
    "---\n",
    "\n",
    "* Catch up\n",
    "* Read Chapter 9 and do the exercises. "
   ]
  },
  {
   "cell_type": "markdown",
   "metadata": {},
   "source": [
    "## Additional Resources\n",
    "---\n",
    "\n",
    "* <img src=\"../meta/images/bd.png\" style=\"display: inline;\" /><img src=\"../meta/images/bd.png\" style=\"display: inline;\" /> [E\\.W\\. Dijkstra Archive: Why numbering should start at zero \\(EWD 831\\)](http://www.cs.utexas.edu/users/EWD/transcriptions/EWD08xx/EWD831.html) Dijkstra was a famous early computer scientist. \n"
   ]
  },
  {
   "cell_type": "markdown",
   "metadata": {},
   "source": [
    "## Exercise 07-1 Solution\n",
    "\n",
    "> Return the 'middle' letter of a string"
   ]
  },
  {
   "cell_type": "code",
   "execution_count": null,
   "metadata": {},
   "outputs": [],
   "source": [
    "def middle(s):\n",
    "    \"\"\"Return the 'middle' letter of a string. \n",
    "    \n",
    "    For strings with an even numbered length, return the first character after the middle position. \n",
    "    Return None for empty strings. \"\"\"\n",
    "    if str:\n",
    "        midindex = int(len(s)/2)\n",
    "        return s[midindex]"
   ]
  },
  {
   "cell_type": "code",
   "execution_count": null,
   "metadata": {},
   "outputs": [],
   "source": [
    "middle('foo')"
   ]
  },
  {
   "cell_type": "code",
   "execution_count": null,
   "metadata": {},
   "outputs": [],
   "source": [
    "middle(\"python\")"
   ]
  },
  {
   "cell_type": "code",
   "execution_count": null,
   "metadata": {},
   "outputs": [],
   "source": [
    "middle(\"\")"
   ]
  },
  {
   "cell_type": "markdown",
   "metadata": {},
   "source": [
    "## Exercise 07-2 Solution\n",
    "\n",
    "> Return the vowels in an input string"
   ]
  },
  {
   "cell_type": "code",
   "execution_count": null,
   "metadata": {},
   "outputs": [],
   "source": [
    "def vowels(s):\n",
    "    \"\"\"Return the vowels in the input string. \"\"\"\n",
    "    lowervowels = 'aeiou'\n",
    "    aeiou =  lowervowels + lowervowels.upper()\n",
    "    allvowels = ''\n",
    "    for c in s:\n",
    "        if c in aeiou:\n",
    "            allvowels += c\n",
    "    return allvowels"
   ]
  },
  {
   "cell_type": "code",
   "execution_count": null,
   "metadata": {},
   "outputs": [],
   "source": [
    "vowels('foo')"
   ]
  },
  {
   "cell_type": "code",
   "execution_count": null,
   "metadata": {},
   "outputs": [],
   "source": [
    "vowels('BANANAS!')"
   ]
  },
  {
   "cell_type": "code",
   "execution_count": null,
   "metadata": {},
   "outputs": [],
   "source": [
    "vowels(\"\")"
   ]
  },
  {
   "cell_type": "markdown",
   "metadata": {},
   "source": [
    "### Discussion\n",
    "\n",
    "* What would you do to handle the 'sometimes y' cases? "
   ]
  },
  {
   "cell_type": "markdown",
   "metadata": {},
   "source": [
    "## Exercise 07-3 Solution\n",
    "\n",
    "> Return the index of doubled consonants\n",
    "\n",
    "* *Start with a plan*\n",
    "* Traverse the string\n",
    "* Keep a counter\n",
    "* Test each character"
   ]
  },
  {
   "cell_type": "code",
   "execution_count": null,
   "metadata": {},
   "outputs": [],
   "source": [
    "def find_double(mystr):\n",
    "    index = 1\n",
    "    while index < len(mystr):\n",
    "        if mystr[index] == mystr[index-1]:\n",
    "            return index - 1\n",
    "        index += 1\n",
    "    return -1\n"
   ]
  },
  {
   "cell_type": "code",
   "execution_count": null,
   "metadata": {},
   "outputs": [],
   "source": [
    "find_double('parallel')"
   ]
  },
  {
   "cell_type": "code",
   "execution_count": null,
   "metadata": {},
   "outputs": [],
   "source": [
    "find_double('abracadabra')"
   ]
  },
  {
   "cell_type": "code",
   "execution_count": null,
   "metadata": {},
   "outputs": [],
   "source": [
    "find_double('llewelyn')"
   ]
  },
  {
   "cell_type": "code",
   "execution_count": null,
   "metadata": {},
   "outputs": [],
   "source": [
    "find_double('a')"
   ]
  },
  {
   "cell_type": "code",
   "execution_count": null,
   "metadata": {},
   "outputs": [],
   "source": [
    "find_double('')"
   ]
  },
  {
   "cell_type": "markdown",
   "metadata": {},
   "source": [
    "### Discussion\n",
    "\n",
    "* Why return -1 if there are no doubled consonants?\n",
    "* Why not start with `index = 0`\n",
    "* How would you change this function to ignore case?\n",
    "* How could this function be improved?"
   ]
  }
 ],
 "metadata": {
  "kernelspec": {
   "display_name": "Python 3",
   "language": "python",
   "name": "python3"
  },
  "language_info": {
   "codemirror_mode": {
    "name": "ipython",
    "version": 3
   },
   "file_extension": ".py",
   "mimetype": "text/x-python",
   "name": "python",
   "nbconvert_exporter": "python",
   "pygments_lexer": "ipython3",
   "version": "3.7.3"
  }
 },
 "nbformat": 4,
 "nbformat_minor": 2
}
