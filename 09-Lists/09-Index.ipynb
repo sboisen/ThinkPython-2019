{
 "cells": [
  {
   "cell_type": "markdown",
   "metadata": {},
   "source": [
    "# Think Python, Week 9: Lists\n",
    "\n",
    "<img src='../meta/images/python-logo.png' style=\"float:right\">\n",
    "\n",
    "## Objectives\n",
    "---\n",
    "\n",
    "* Understand the `list` data type\n",
    "* Understand *mapping* operations: `sum`, `map`, `filter`, `reduce` \n",
    "* Understand the relationships between strings and lists\n",
    "* Understand the difference between equivalence and identity"
   ]
  },
  {
   "cell_type": "markdown",
   "metadata": {},
   "source": [
    "## Questions from Last Week's Reading\n",
    "---\n",
    "\n",
    "What was your interesting problem?"
   ]
  },
  {
   "cell_type": "markdown",
   "metadata": {},
   "source": [
    "## List Basics\n",
    "\n",
    "* Lists are sequences (like strings), with indexing, slicing, iteration, operators like `in` and `+`, etc. \n",
    "  * List items can be any type (including *nested* lists)\n",
    "  * The empty list `[]` is similar to the empty string. \n",
    "* Lists are *mutable* (unlike strings)\n",
    "* Lists has additional methods like `append` (a single item) and `extend` (a list)"
   ]
  },
  {
   "cell_type": "code",
   "execution_count": null,
   "metadata": {},
   "outputs": [],
   "source": [
    "list1 = ['green', 'eggs', 'ham']\n",
    "list1[-1]"
   ]
  },
  {
   "cell_type": "code",
   "execution_count": null,
   "metadata": {},
   "outputs": [],
   "source": [
    "list1[-1][-1]"
   ]
  },
  {
   "cell_type": "code",
   "execution_count": null,
   "metadata": {},
   "outputs": [],
   "source": [
    "'green eggs' in list1"
   ]
  },
  {
   "cell_type": "code",
   "execution_count": null,
   "metadata": {},
   "outputs": [],
   "source": [
    "[] in list1"
   ]
  },
  {
   "cell_type": "code",
   "execution_count": null,
   "metadata": {},
   "outputs": [],
   "source": [
    "list1.append([])\n",
    "print(list1)"
   ]
  },
  {
   "cell_type": "code",
   "execution_count": null,
   "metadata": {},
   "outputs": [],
   "source": [
    "list1.extend(['sam', \"I\", \"am\"])\n",
    "for item in list1:\n",
    "    print(item)"
   ]
  },
  {
   "cell_type": "code",
   "execution_count": null,
   "metadata": {},
   "outputs": [],
   "source": [
    "for item in []:\n",
    "    print(item)"
   ]
  },
  {
   "cell_type": "code",
   "execution_count": null,
   "metadata": {},
   "outputs": [],
   "source": [
    "#nested lists\n",
    "mylist = [\n",
    "    ['Sean', 'Boisen'],\n",
    "    ['Peter', 'Venable'],\n",
    "    ['Rick', 'Brannan'],\n",
    "    ]\n",
    "print(mylist)"
   ]
  },
  {
   "cell_type": "code",
   "execution_count": null,
   "metadata": {},
   "outputs": [],
   "source": [
    "len(mylist)"
   ]
  },
  {
   "cell_type": "code",
   "execution_count": null,
   "metadata": {},
   "outputs": [],
   "source": [
    "len(mylist[0])"
   ]
  },
  {
   "cell_type": "code",
   "execution_count": null,
   "metadata": {},
   "outputs": [],
   "source": [
    "len(mylist[0][1])"
   ]
  },
  {
   "cell_type": "markdown",
   "metadata": {},
   "source": [
    "### Group Exercises for 9-1 through 9-6"
   ]
  },
  {
   "cell_type": "markdown",
   "metadata": {},
   "source": [
    "## Mapping Basics\n",
    "\n",
    "* *Mapping* is a powerful programming paradigm that extends the concept of iteration to returning values\n",
    "  * `map()` returns a list of the same length\n",
    "  * `filter()` returns only elements that satisfy some text\n",
    "  * `reduce()` returns some summary over items in the list\n",
    "* Mapping functions typically return an object: use `list()` to evaluate the expression. \n",
    "  \n",
    "> “Most common list operations can be expressed as a combination of map, filter and reduce.”  "
   ]
  },
  {
   "cell_type": "markdown",
   "metadata": {},
   "source": [
    "## Lists and Strings\n",
    "\n",
    "* Strings can be converted to lists and vice-versa"
   ]
  },
  {
   "cell_type": "code",
   "execution_count": null,
   "metadata": {},
   "outputs": [],
   "source": [
    "list('ham')"
   ]
  },
  {
   "cell_type": "code",
   "execution_count": null,
   "metadata": {},
   "outputs": [],
   "source": [
    "'ham' == list('ham')"
   ]
  },
  {
   "cell_type": "code",
   "execution_count": null,
   "metadata": {},
   "outputs": [],
   "source": [
    "len('ham') == len(list('ham'))"
   ]
  },
  {
   "cell_type": "code",
   "execution_count": null,
   "metadata": {},
   "outputs": [],
   "source": [
    "list1 = ['green', 'eggs', 'ham']\n",
    "list1[-1][-1]"
   ]
  },
  {
   "cell_type": "code",
   "execution_count": null,
   "metadata": {},
   "outputs": [],
   "source": [
    "# split() is string method\n",
    "'green eggs and ham'.split()"
   ]
  },
  {
   "cell_type": "code",
   "execution_count": null,
   "metadata": {},
   "outputs": [],
   "source": [
    "# join() is a string method\n",
    "'!'.join(['green', 'eggs', 'and', 'ham'])"
   ]
  },
  {
   "cell_type": "code",
   "execution_count": null,
   "metadata": {},
   "outputs": [],
   "source": [
    "'.'.join([1, 2, 3])"
   ]
  },
  {
   "cell_type": "code",
   "execution_count": null,
   "metadata": {},
   "outputs": [],
   "source": [
    "map(str, [1, 2, 3])"
   ]
  },
  {
   "cell_type": "code",
   "execution_count": null,
   "metadata": {},
   "outputs": [],
   "source": [
    "list(map(str, [1, 2, 3]))"
   ]
  },
  {
   "cell_type": "code",
   "execution_count": null,
   "metadata": {},
   "outputs": [],
   "source": [
    "'.'.join(map(str, [1, 2, 3]))"
   ]
  },
  {
   "cell_type": "code",
   "execution_count": null,
   "metadata": {},
   "outputs": [],
   "source": [
    "def first_letter(s):\n",
    "    if s:\n",
    "        return s[0]\n",
    "    else:\n",
    "        return \"\"\n",
    "first_letter('eggs')"
   ]
  },
  {
   "cell_type": "code",
   "execution_count": null,
   "metadata": {},
   "outputs": [],
   "source": [
    "list(map(first_letter, ['green', 'eggs', 'and', 'ham']))"
   ]
  },
  {
   "cell_type": "code",
   "execution_count": null,
   "metadata": {},
   "outputs": [],
   "source": [
    "''.join(map(first_letter, ['green', 'eggs', 'and', 'ham']))"
   ]
  },
  {
   "cell_type": "markdown",
   "metadata": {},
   "source": [
    "### Exercise 09-01: words without e\n",
    "\n",
    "* Last week we looked at reading a file with a list of words and outputting those without an 'e'. This is an example of a filter. Rewrite that code to use 'filter()' and to return a list of words that contain 'ee'. \n",
    "    \n",
    "```\n",
    ">>> double_e_words('words.txt')\n",
    "['absentee\\n',\n",
    " 'absentees\\n',\n",
    " 'acceptee\\n',\n",
    " 'acceptees\\n',\n",
    " 'adeem\\n',\n",
    " 'adeemed\\n',\n",
    " 'adeeming\\n'\n",
    " ...\n",
    "```\n",
    "    \n",
    "![Pulse Check](../meta/images/pulse-check.png)\n",
    "\n",
    "[My solution for Exercise 09-1](#Exercise-09-1-Solution)    "
   ]
  },
  {
   "cell_type": "markdown",
   "metadata": {},
   "source": [
    "### Functional Programming\n",
    "\n",
    "* Focus on *what* to compute over *how* to compute it\n",
    "* Functions as first-class objects\n",
    "* No side effects\n",
    "* Focus on list processing\n",
    "* Recursion as a control structure\n",
    "\n",
    "Python is not a *purely* functional language, but it supports a wide-variety of functional programming styles. "
   ]
  },
  {
   "cell_type": "markdown",
   "metadata": {},
   "source": [
    "## List Equivalence and Identity\n",
    "---\n",
    "\n",
    "* Make sure you know what you're changing\n",
    "    * A function which changes a list parameter changes the original list!\n",
    "* Use `id()` or `is` to determine identity (over equivalence)"
   ]
  },
  {
   "cell_type": "code",
   "execution_count": null,
   "metadata": {},
   "outputs": [],
   "source": [
    "foo = [1, 2, 3]\n",
    "bar = [1, 2, 3]\n",
    "foo == bar"
   ]
  },
  {
   "cell_type": "code",
   "execution_count": null,
   "metadata": {},
   "outputs": [],
   "source": [
    "foo is bar"
   ]
  },
  {
   "cell_type": "code",
   "execution_count": null,
   "metadata": {},
   "outputs": [],
   "source": [
    "foo[0] = \"one\"\n",
    "print(\"value of foo:\", foo)\n",
    "print(\"value of bar:\", bar)"
   ]
  },
  {
   "cell_type": "markdown",
   "metadata": {},
   "source": [
    "## Homework\n",
    "---\n",
    "\n",
    "* Read Chapter 11 and do the exercises. \n"
   ]
  },
  {
   "cell_type": "markdown",
   "metadata": {},
   "source": [
    "## Exercise 09-1 Solution\n",
    "---"
   ]
  },
  {
   "cell_type": "code",
   "execution_count": null,
   "metadata": {},
   "outputs": [],
   "source": [
    "def double_e(word):\n",
    "    return 'ee' in word\n",
    "double_e('green')"
   ]
  },
  {
   "cell_type": "code",
   "execution_count": null,
   "metadata": {},
   "outputs": [],
   "source": [
    "def double_e_words(filename):\n",
    "    return list(filter(double_e, open(filename)))\n",
    "\n",
    "double_e_words('words.txt')[:20]"
   ]
  },
  {
   "cell_type": "code",
   "execution_count": null,
   "metadata": {},
   "outputs": [],
   "source": []
  }
 ],
 "metadata": {
  "kernelspec": {
   "display_name": "Python 3",
   "language": "python",
   "name": "python3"
  },
  "language_info": {
   "codemirror_mode": {
    "name": "ipython",
    "version": 3
   },
   "file_extension": ".py",
   "mimetype": "text/x-python",
   "name": "python",
   "nbconvert_exporter": "python",
   "pygments_lexer": "ipython3",
   "version": "3.7.3"
  }
 },
 "nbformat": 4,
 "nbformat_minor": 2
}
