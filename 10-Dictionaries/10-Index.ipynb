{
 "cells": [
  {
   "cell_type": "markdown",
   "metadata": {},
   "source": [
    "# Think Python, Week 10: Dictionaries\n",
    "\n",
    "<img src='../meta/images/python-logo.png' style=\"float:right\">\n",
    "\n",
    "## Objectives\n",
    "---\n",
    "\n",
    "* Understand the `dict` data type and some common use cases\n",
    "* Understand the `raise` statement and raising errors\n",
    "* Understand global variables"
   ]
  },
  {
   "cell_type": "markdown",
   "metadata": {},
   "source": [
    "## Dictionary Basics\n",
    "---\n",
    "\n",
    "* Dictionaries contain *items* which pair a *key* with a *value*.\n",
    "  * They support some of the same operations as lists: `len()`, `in`, iteration (over keys)\n",
    "  * Dictionaries are mutable.\n",
    "  * Dictionaries are \"fast\" no longer how long they get (unlike lists).\n",
    "  * Ordered as of Python 3.7. \n",
    "* Each key must be unique.\n",
    "  * Adding a new value to a key overwrites the old value.\n",
    "* Keys must be *hashable*. \n",
    "* Values can be any type.\n"
   ]
  },
  {
   "cell_type": "code",
   "execution_count": null,
   "metadata": {},
   "outputs": [],
   "source": [
    "mydict = {\"LLS:14.0.1\": \"New Bible Dictionary\",\n",
    "       \"LLS:14.0.3\": \"Harper's Bible Dictionary\", \n",
    "       \"LLS:HLMNILLBBLDICT\": \"Holman Illustrated Bible Dictionary\",\n",
    "       \"LLS:14.0.4\": \"The Anchor Yale Bible Dictionary\",\n",
    "       # and many, many others ...\n",
    "       }"
   ]
  },
  {
   "cell_type": "code",
   "execution_count": null,
   "metadata": {},
   "outputs": [],
   "source": [
    "len(mydict)"
   ]
  },
  {
   "cell_type": "code",
   "execution_count": null,
   "metadata": {},
   "outputs": [],
   "source": [
    "'LLS:14.0.1' in mydict"
   ]
  },
  {
   "cell_type": "code",
   "execution_count": null,
   "metadata": {},
   "outputs": [],
   "source": [
    "'NBD' in mydict"
   ]
  },
  {
   "cell_type": "code",
   "execution_count": null,
   "metadata": {},
   "outputs": [],
   "source": [
    "mydict['LLS:14.0.1']"
   ]
  },
  {
   "cell_type": "code",
   "execution_count": null,
   "metadata": {},
   "outputs": [],
   "source": [
    "mydict['NBD']"
   ]
  },
  {
   "cell_type": "code",
   "execution_count": null,
   "metadata": {},
   "outputs": [],
   "source": [
    "mydict.get('NBD', 'Missing')"
   ]
  },
  {
   "cell_type": "markdown",
   "metadata": {},
   "source": [
    "### Use cases\n",
    "\n",
    "* Looking things up\n",
    "* Keeping track of whether you've seen an item before\n",
    "  * Finding duplicates\n",
    "  * Caching\n",
    "  * Grouping items with a common key (use lists as values)\n",
    "* Counting things\n",
    "* Efficiently collecting key-value pairs"
   ]
  },
  {
   "cell_type": "code",
   "execution_count": null,
   "metadata": {},
   "outputs": [],
   "source": [
    "# fast lookup for a large set of values\n",
    "userzipcodes = {\n",
    "    '98225': True,\n",
    "    '98226': True,\n",
    "    # ... and presumably hundreds more\n",
    "}\n",
    "# apparently Smokey the Bear has his own zip code: https://lite987.com/americas-5-most-interesting-zip-codes/\n",
    "# but he's probably not a Logos users\n",
    "'20252' in userzipcodes"
   ]
  },
  {
   "cell_type": "code",
   "execution_count": null,
   "metadata": {},
   "outputs": [],
   "source": [
    "# counting things\n",
    "def counter(l):\n",
    "    counts = dict()\n",
    "    for item in l:\n",
    "        counts[item] = counts.get(item, 0) + 1\n",
    "    return counts\n",
    "        \n",
    "counter(['red', 'white', 'green', 'red', 'yellow', 'red'])\n",
    "# Note the `collections` module has a `Counter` class for this use case: this is just for expository purposes. \n"
   ]
  },
  {
   "cell_type": "code",
   "execution_count": null,
   "metadata": {},
   "outputs": [],
   "source": [
    "# collecting items with a common key\n",
    "# words by first letter\n",
    "firstletters = dict()\n",
    "for word in ['alpha', 'beta', 'alfalfa', 'beets', 'aspirin']:\n",
    "    initial = word[0]\n",
    "    # initialize an empty list if not present\n",
    "    if initial not in firstletters:\n",
    "        firstletters[initial] = []\n",
    "    # append items with the same first letter\n",
    "    firstletters[initial].append(word)\n",
    "    \n",
    "firstletters"
   ]
  },
  {
   "cell_type": "markdown",
   "metadata": {},
   "source": [
    "## Raising Exceptions\n",
    "---\n",
    "\n",
    "* Examples so far: \n",
    "    * `NameError`: using a name that's not defined\n",
    "    * `TypeError`: problems with types\n",
    "    * `IndexError`: accessing a non-existent index in a sequence \n",
    "    * `KeyError`: accessing a non-existent key in a dictionary\n",
    "    * `ValueError`: something wrong with the value of a parameter\n",
    "* There are lots of others. Later you'll learn how to define your own\n",
    "* An exception like `TypeError` is a *class* of error: there might be many different kinds\n",
    "* Best practices: \n",
    "    * Include an informative message\n",
    "    * Rely on Python's existing errors\n",
    "    * Don't go overboard\n"
   ]
  },
  {
   "cell_type": "markdown",
   "metadata": {},
   "source": [
    "## Global Variables\n",
    "---\n",
    "\n",
    "* By default, Python uses local variables\n",
    "* Use the global declaration to use the global value instead\n",
    "* Strong convention: use UPPERCASE variable names for global values\n",
    "* Use globals sparingly!\n",
    "  * Encapsulation is generally a good thing\n",
    "  * Code with globals is harder to test in a modular way\n"
   ]
  },
  {
   "cell_type": "markdown",
   "metadata": {},
   "source": [
    "### Exercise 10-1\n",
    "\n",
    "Create a function `shortener()` that generates short URLs using 'https://mydomain.com'. Create a second function `resolver()` that translates short URLs back to their long equivalents, and returns other URLs as-is. `resolver()` should raise a `ValueError` if given a non-existent short URL. \n",
    "\n",
    "Hint: you'll want some global variables. \n",
    "\n",
    "```\n",
    ">>> shortener('https://faithlife.com/think-python/activity')\n",
    "'https://mydomain.com/0'\n",
    ">>> shortener('https://seanboisen.com')\n",
    "'https://mydomain.com/1'\n",
    "# only shorten it once\n",
    ">>> shortener('https://faithlife.com/think-python/activity')\n",
    "'https://mydomain.com/0'\n",
    "# return the long version for short URLs\n",
    ">>> resolver('https://mydomain.com/0')\n",
    "'https://faithlife.com/think-python/activity'\n",
    "# if not a short URL, just return it\n",
    ">>> resolver('https://logos.com')\n",
    "'https://logos.com'\n",
    "# raise an error if the short URL is undefined\n",
    ">>> resolver('https://mydomain.com/12345')\n",
    "ValueError: 'Invalid short URL'\n",
    "```\n",
    "\n",
    "[My solution](#Exercise-10-1-Solution)"
   ]
  },
  {
   "cell_type": "markdown",
   "metadata": {},
   "source": [
    "## Homework\n",
    "---\n",
    "\n",
    "* Read Chapter 11 and do the exercises. \n"
   ]
  },
  {
   "cell_type": "markdown",
   "metadata": {},
   "source": [
    "## Additional Resources\n",
    "---\n",
    "\n",
    "* If you have your own hosting service, you can set up [YOURLS](http://yourls.org/) as your own URL shortener (alas, using PHP rather than Python)\n",
    "* <img src=\"../meta/images/bd.png\" style=\"display: inline;\" />[Memoization](https://en.wikipedia.org/wiki/Memoization)\n",
    "* <img src=\"../meta/images/bd.png\" style=\"display: inline;\" />The excellent [Natural Language Toolkit](http://www.nltk.org/) (NLTK) has a well-developed class for frequency distributions (histograms) called [FreqDist](http://nltk.googlecode.com/svn/trunk/doc/api/nltk.probability.FreqDist-class.html). Among other things, it's very useful for [text corpora](http://nltk.googlecode.com/svn/trunk/doc/book/ch02.html).\n",
    "* <img src=\"../meta/images/bd.png\" style=\"display: inline;\" /><img src=\"../meta/images/bd.png\" style=\"display: inline;\" />[Wikipedia: Hash table](http://en.wikipedia.org/wiki/Hash_table)\n",
    "\n"
   ]
  },
  {
   "cell_type": "markdown",
   "metadata": {},
   "source": [
    "## Exercise 10-1 Solution\n",
    "---"
   ]
  },
  {
   "cell_type": "code",
   "execution_count": null,
   "metadata": {},
   "outputs": [],
   "source": [
    "# URL Shortener\n",
    "SHORTURLS = dict()\n",
    "URLS = dict()\n",
    "URLCOUNTER = 0\n",
    "\n",
    "def shortener(url):\n",
    "    global SHORTURLS, URLS, URLCOUNTER\n",
    "    if url not in URLS:\n",
    "        shorturl = 'https://mydomain.com/' + str(URLCOUNTER)\n",
    "        # map full URL to short version\n",
    "        URLS[url] = shorturl\n",
    "        # map short version to full URL for resolving\n",
    "        SHORTURLS[shorturl] = url\n",
    "        URLCOUNTER += 1\n",
    "    return URLS[url]\n",
    "\n",
    "\n",
    "def resolver(url):\n",
    "    if url.startswith('https://mydomain.com/'):\n",
    "        if url in SHORTURLS:\n",
    "            return SHORTURLS[url]\n",
    "        else:\n",
    "            raise ValueError(\"Invalid short URL\")\n",
    "    else:\n",
    "        return url\n",
    "    "
   ]
  },
  {
   "cell_type": "code",
   "execution_count": null,
   "metadata": {},
   "outputs": [],
   "source": [
    "print(shortener('https://faithlife.com/think-python/activity'))\n",
    "print(shortener('https://seanboisen.com'))\n",
    "print(shortener('https://faithlife.com/think-python/activity'))\n",
    "print(resolver('https://mydomain.com/0'))\n",
    "print(resolver('https://logos.com'))\n",
    "print(resolver('https://mydomain.com/12345'))"
   ]
  },
  {
   "cell_type": "code",
   "execution_count": null,
   "metadata": {},
   "outputs": [],
   "source": [
    "URLS"
   ]
  },
  {
   "cell_type": "code",
   "execution_count": null,
   "metadata": {},
   "outputs": [],
   "source": [
    "SHORTURLS"
   ]
  },
  {
   "cell_type": "code",
   "execution_count": null,
   "metadata": {},
   "outputs": [],
   "source": []
  }
 ],
 "metadata": {
  "kernelspec": {
   "display_name": "Python 3",
   "language": "python",
   "name": "python3"
  },
  "language_info": {
   "codemirror_mode": {
    "name": "ipython",
    "version": 3
   },
   "file_extension": ".py",
   "mimetype": "text/x-python",
   "name": "python",
   "nbconvert_exporter": "python",
   "pygments_lexer": "ipython3",
   "version": "3.7.3"
  }
 },
 "nbformat": 4,
 "nbformat_minor": 2
}
