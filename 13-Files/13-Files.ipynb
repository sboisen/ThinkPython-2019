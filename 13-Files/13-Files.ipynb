{
 "cells": [
  {
   "cell_type": "markdown",
   "metadata": {},
   "source": [
    "# Think Python, Week 13: Files\n",
    "\n",
    "<img src='../meta/images/python-logo.png' style=\"float:right\">\n",
    "\n",
    "There's a lot of content for this week (including some things we didn't get to last week), so I'll mostly be fielding questions from the reading (so please bring some!). \n",
    "\n",
    "**This will be our last regular meeting.** We can continue discussion indefinitely on the [Think Python Faithlife group](https://faithlife.com/think-python/activity), however. \n",
    "\n",
    "## Objectives\n",
    "\n",
    "* Catching up from last week\n",
    "  * Sorting\n",
    "  * Optional parameters\n",
    "* Writing files\n",
    "* The format operator\n",
    "* Filenames and paths\n",
    "* Try/except\n",
    "---\n"
   ]
  },
  {
   "cell_type": "markdown",
   "metadata": {},
   "source": [
    "## Sorting\n",
    "---\n",
    "* `sort` is a list method that sorts \"in-place\", but returns `None` (not a sorted list)\n",
    "* `sorted` is a function that returns a new sorted list\n",
    "* use the `reverse` argument to change the sort direction"
   ]
  },
  {
   "cell_type": "code",
   "execution_count": null,
   "metadata": {},
   "outputs": [],
   "source": [
    "mylist = [4, 2, 1, 3]"
   ]
  },
  {
   "cell_type": "code",
   "execution_count": null,
   "metadata": {},
   "outputs": [],
   "source": [
    "sorted(mylist)"
   ]
  },
  {
   "cell_type": "code",
   "execution_count": null,
   "metadata": {},
   "outputs": [],
   "source": [
    "mylist"
   ]
  },
  {
   "cell_type": "code",
   "execution_count": null,
   "metadata": {},
   "outputs": [],
   "source": [
    "mylist.sort()\n",
    "mylist"
   ]
  },
  {
   "cell_type": "code",
   "execution_count": null,
   "metadata": {},
   "outputs": [],
   "source": [
    "notanewlist = mylist.sort()\n",
    "notanewlist is None"
   ]
  },
  {
   "cell_type": "code",
   "execution_count": null,
   "metadata": {},
   "outputs": [],
   "source": [
    "mylist.sort(reverse=True)\n",
    "mylist"
   ]
  },
  {
   "cell_type": "code",
   "execution_count": null,
   "metadata": {},
   "outputs": [],
   "source": [
    "help(sorted)"
   ]
  },
  {
   "cell_type": "markdown",
   "metadata": {},
   "source": [
    "## Optional Parameters\n",
    "---\n",
    "\n",
    "* The syntax for defining a function with optional parameters mirrors that for calling with optional arguments\n",
    "* Required parameters must precede optional ones"
   ]
  },
  {
   "cell_type": "code",
   "execution_count": null,
   "metadata": {},
   "outputs": [],
   "source": [
    "def myfun(param=42):\n",
    "    print(\"The answer to life, the universe, and everything is\", param)"
   ]
  },
  {
   "cell_type": "code",
   "execution_count": null,
   "metadata": {},
   "outputs": [],
   "source": [
    "myfun()"
   ]
  },
  {
   "cell_type": "code",
   "execution_count": null,
   "metadata": {},
   "outputs": [],
   "source": [
    "myfun(12)"
   ]
  },
  {
   "cell_type": "code",
   "execution_count": null,
   "metadata": {},
   "outputs": [],
   "source": [
    "def mybadfun(param=42, source):\n",
    "    print(\"The answer to life, the universe, and everything is\", param, \"according to\", source)"
   ]
  },
  {
   "cell_type": "markdown",
   "metadata": {},
   "source": [
    "## Writing Files\n",
    "---\n",
    "\n",
    "* Be aware: \"Opening a file in write mode clears out the old data\"\n",
    "* Files that aren't yet closed might have unpredictable contents. \n",
    "* Bonus: you'll often use the `writelines()` method instead of just `write()`\n",
    "  * Writes a list of items to the stream.\n",
    "  * Note `writelines` doesn't add line separators for you"
   ]
  },
  {
   "cell_type": "code",
   "execution_count": null,
   "metadata": {},
   "outputs": [],
   "source": [
    "fout = open(\"temp.txt\", \"w\")"
   ]
  },
  {
   "cell_type": "code",
   "execution_count": null,
   "metadata": {},
   "outputs": [],
   "source": [
    "fout.writelines(['a', 'b', 'c'])"
   ]
  },
  {
   "cell_type": "code",
   "execution_count": null,
   "metadata": {},
   "outputs": [],
   "source": [
    "fout.close()"
   ]
  },
  {
   "cell_type": "markdown",
   "metadata": {},
   "source": [
    "* Bonus bonus: the `with` operator encapsulates a block of code with an open file, and closes it for you when exiting the block. "
   ]
  },
  {
   "cell_type": "code",
   "execution_count": null,
   "metadata": {},
   "outputs": [],
   "source": [
    "with open(\"temp.txt\", \"w\") as fout:\n",
    "    fout.write(\"All done now\\n\")\n",
    "    # the file gets closed here automagically"
   ]
  },
  {
   "cell_type": "markdown",
   "metadata": {},
   "source": [
    "## Format Operator\n",
    "---\n",
    "\n",
    "* Any Python expression can provide the value to be formatted\n",
    "* The `%` operator has a rich (and complex) syntax for how the value is formatted, including\n",
    "    * Limiting the precision of floats\n",
    "    * Unpacking dicts\n",
    "    * \"Tabbing\" a given number of spaces\n",
    "    * Pluralizing nouns if there is more than one value (!)\n",
    "    * and much, much more\n",
    "* Bonus: Python 3 added *f strings*. I usually find them more understandable for simple printing\n",
    "    * But they provide less formatting richness"
   ]
  },
  {
   "cell_type": "code",
   "execution_count": null,
   "metadata": {},
   "outputs": [],
   "source": [
    "# basic example\n",
    "magicnum = 42\n",
    "'The answer to life is %d' % magicnum"
   ]
  },
  {
   "cell_type": "code",
   "execution_count": null,
   "metadata": {},
   "outputs": [],
   "source": [
    "# f-string example: note the leading 'f'\n",
    "f'The answer to life is {magicnum}'"
   ]
  },
  {
   "cell_type": "markdown",
   "metadata": {},
   "source": [
    "## Paths\n",
    "---\n",
    "\n",
    "* Bonus: Python 3 added [pathlib](https://docs.python.org/3/library/pathlib.html), and it's worth learning.\n"
   ]
  },
  {
   "cell_type": "markdown",
   "metadata": {},
   "source": [
    "## Try/Except\n",
    "---\n",
    "\n",
    "* No need to duplicate the exception catching that Python already provides"
   ]
  },
  {
   "cell_type": "markdown",
   "metadata": {},
   "source": [
    "## Sean's Opinionated Views\n",
    "---\n",
    "\n",
    "* `dbm`: i've never used it\n",
    "    * Python ships with `[SQLite](https://www.sqlite.org/index.html)` which is a remarkably capable database. See [sqlite3](https://docs.python.org/3/library/sqlite3.html)\n",
    "* `pickle`: maybe in a pinch, **but**\n",
    "    * Pickle files may not work across different operating systems and architectures.\n",
    "    * If you really need persistence, a database will often be a better choice\n",
    "* Pipes: useful with some specific operating system commands, but you probably won't use them\n"
   ]
  },
  {
   "cell_type": "code",
   "execution_count": null,
   "metadata": {},
   "outputs": [],
   "source": []
  }
 ],
 "metadata": {
  "kernelspec": {
   "display_name": "Python 3",
   "language": "python",
   "name": "python3"
  },
  "language_info": {
   "codemirror_mode": {
    "name": "ipython",
    "version": 3
   },
   "file_extension": ".py",
   "mimetype": "text/x-python",
   "name": "python",
   "nbconvert_exporter": "python",
   "pygments_lexer": "ipython3",
   "version": "3.7.3"
  }
 },
 "nbformat": 4,
 "nbformat_minor": 2
}
