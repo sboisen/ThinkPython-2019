{
 "cells": [
  {
   "cell_type": "markdown",
   "metadata": {},
   "source": [
    "# Think Python, Week 4: Conditionals and Recursion\n",
    "\n",
    "<img src='../meta/images/python-logo.png' style=\"float:right\">\n",
    "\n",
    "## Objectives\n",
    "---\n",
    "\n",
    "* Understand boolean expressions\n",
    "* Understand assignment and comparison operators\n",
    "* Understand conditionals\n",
    "* Understand recursion"
   ]
  },
  {
   "cell_type": "markdown",
   "metadata": {},
   "source": [
    "## Questions from Last Week's Reading\n",
    "---\n",
    "\n",
    "This chapter introduces a number of new Python elements: any questions about them?\n",
    "\n",
    "* `//` (floor) and `%` (modulus) operators\n",
    "* Boolean expressions\n",
    "* Conditional execution(`if`/`elif`/`else`)\n",
    "* Recursion\n",
    "* Keyboard input"
   ]
  },
  {
   "cell_type": "markdown",
   "metadata": {},
   "source": [
    "### Quiz: Boolean Values\n",
    "\n",
    "* `bool` is a *type*\n",
    "* `and`, `or`, `not` work like you'd expect\n",
    "* Testing for equality is `==`\n",
    "* Non-zero is treated as True"
   ]
  },
  {
   "cell_type": "code",
   "execution_count": null,
   "metadata": {},
   "outputs": [],
   "source": [
    "bool(3)"
   ]
  },
  {
   "cell_type": "code",
   "execution_count": null,
   "metadata": {},
   "outputs": [],
   "source": [
    "bool(0)"
   ]
  },
  {
   "cell_type": "code",
   "execution_count": null,
   "metadata": {},
   "outputs": [],
   "source": [
    "bool(-1)"
   ]
  },
  {
   "cell_type": "code",
   "execution_count": null,
   "metadata": {},
   "outputs": [],
   "source": [
    "bool(\"\")"
   ]
  },
  {
   "cell_type": "code",
   "execution_count": null,
   "metadata": {},
   "outputs": [],
   "source": [
    "bool(\"False\")"
   ]
  },
  {
   "cell_type": "code",
   "execution_count": null,
   "metadata": {},
   "outputs": [],
   "source": [
    "bool(int)"
   ]
  },
  {
   "cell_type": "code",
   "execution_count": null,
   "metadata": {},
   "outputs": [],
   "source": [
    "bool(int('0'))"
   ]
  },
  {
   "cell_type": "code",
   "execution_count": null,
   "metadata": {},
   "outputs": [],
   "source": [
    "print(type(true))"
   ]
  },
  {
   "cell_type": "markdown",
   "metadata": {},
   "source": [
    "### Exercise 04-1: Days of June\n",
    "\n",
    "There are 30 days in June, and you can produce them all with `range(1, 31)` as discussed last week. \n",
    "\n",
    "June 2nd is a Sunday this year. Given that knowledge and the `range` expression above, write a program to print just the dates of the Sundays in June. Hint: weeks are a 7-day cycle, so think about using the modulus operator. \n",
    "\n",
    "([Solution](#Exercise-04-1-Solution))\n",
    "\n",
    "![Pulse Check](../meta/images/pulse-check.png)"
   ]
  },
  {
   "cell_type": "markdown",
   "metadata": {},
   "source": [
    "### Exercise 04-2: Odd-Numbered Days of June\n",
    "\n",
    "Now convert your program to a function that only writes the odd-numbered Sundays this June\n",
    "\n",
    "([Solutions](#Exercise-04-2-Solution))\n",
    "\n",
    "![Pulse Check](../meta/images/pulse-check.png)"
   ]
  },
  {
   "cell_type": "markdown",
   "metadata": {},
   "source": [
    "### Exercise 04-3: Odd-Numbered Days of June, Parameterized\n",
    "\n",
    "Now modify your function to add the date of the first Sunday as a parameter (so it will work for any June). Don't forget to test multiple possible values for the first Sunday. \n",
    "\n",
    "([Solutions](#Exercise-04-3-Solution))\n",
    "\n",
    "![Pulse Check](../meta/images/pulse-check.png)"
   ]
  },
  {
   "cell_type": "markdown",
   "metadata": {},
   "source": [
    "### Best Practices\n",
    "\n",
    "* Start with simpler cases and work up to more complex ones\n",
    "* Test as you go\n",
    "* The best code reflects the structure of the problem\n",
    "  * Arbitrary details tend to hide bugs and make code difficult to modify\n",
    "* The right data structure can make problems much easier\n",
    "* Encapsulate, generalize, refactor\n",
    "\n",
    "### More Improvements\n",
    "\n",
    "* How can you help your user know what input to provide? \n",
    "* How can you handle exceptional input?"
   ]
  },
  {
   "cell_type": "markdown",
   "metadata": {},
   "source": [
    "## Gotchas: Assignment vs. Comparison\n",
    "---\n",
    "\n",
    "* In Python, `x = y` means \"assign the value of y to x\". \n",
    "* It does *not* mean \"compare x and y\"."
   ]
  },
  {
   "cell_type": "code",
   "execution_count": null,
   "metadata": {},
   "outputs": [],
   "source": [
    "# what happens when you execute this code? \n",
    "x == 4\n",
    "print(x)"
   ]
  },
  {
   "cell_type": "markdown",
   "metadata": {},
   "source": [
    "### Exercise 04-4: Computing Day of the Week\n",
    "\n",
    "Pair up to work together. Write a function `june()` which takes a date and prints out the day of the week on which that date falls in June 2019. \n",
    "\n",
    "Example:\n",
    "\n",
    "```\n",
    ">>> june(11)\n",
    "Tuesday\n",
    "```\n",
    "\n",
    "([Solutions](#Exercise-04-4-Solution))"
   ]
  },
  {
   "cell_type": "markdown",
   "metadata": {},
   "source": [
    "## Homework\n",
    "---\n",
    "\n",
    "* Write a function that takes the name of any month and the date of the first Sunday, and prints out the dates of all the Sundays for that month. \n",
    "    * `sundays(\"February\", 3)` should print out 3, 10, 17 24\n",
    "    * Hint: \"30 days has September, April, June ...\". Don't worry about leap years. \n",
    "* Read Chapter 6 and do the exercises. "
   ]
  },
  {
   "cell_type": "markdown",
   "metadata": {},
   "source": [
    "## Additional Resources\n",
    "---\n",
    "\n",
    "* <img src=\"../meta/images/bd.png\" style=\"display: inline;\" /> [8 Barriers to Overcome when Learning to Code](http://thenextweb.com/dd/2015/06/11/8-barriers-to-overcome-when-learning-to-code/)\n",
    "> The biggest problem students have is actually applying the theory to solve problems and write new code. This means that the gap is actually a *skills* gap.\n",
    "* <img src=\"../meta/images/bd.png\" style=\"display: inline;\" />[How Hip Hop can Teach You to Code](http://boingboing.net/2015/06/09/how-hip-hop-can-teach-you-to-c.html?utm_source=nextdraft)\n",
    "* <img src=\"../meta/images/bd.png\" style=\"display: inline;\" /><img src=\"../meta/images/bd.png\" style=\"display: inline;\" />[What is Code? Paul Ford in Bloomberg](http://www.bloomberg.com/graphics/2015-paul-ford-what-is-code) (long!)\n",
    "  * <img src=\"../meta/images/bd.png\" style=\"display: inline;\" /> [A much shorter summary](http://gizmodo.com/i-read-this-mammoth-essay-on-code-to-make-you-38-thousa-1710644308)\n",
    "* <img src=\"../meta/images/bd.png\" style=\"display: inline;\" /><img src=\"../meta/images/bd.png\" style=\"display: inline;\" />[Why doesn't Python have switch case?](http://www.reddit.com/r/Python/comments/3970zf/why_doesnt_python_have_switchcase/)\n",
    "\n",
    "<img src=\"../meta/images/XKCD-tasks_2x.png\" />"
   ]
  },
  {
   "cell_type": "markdown",
   "metadata": {},
   "source": [
    "## A Request\n",
    "---\n",
    "\n",
    "Go to my LinkedIn page (https://www.linkedin.com/in/seanboisen) and \n",
    "\n",
    "* Connect with me\n",
    "* Endorse me for a few skills\n",
    "  * Computer Science\n",
    "  * Python\n",
    "  * Teaching\n"
   ]
  },
  {
   "cell_type": "markdown",
   "metadata": {},
   "source": [
    "## Exercise 04-1 Solution\n",
    "---"
   ]
  },
  {
   "cell_type": "code",
   "execution_count": null,
   "metadata": {},
   "outputs": [],
   "source": [
    "# Exercise 04-1: Given that June 2 is a Sunday, print out the dates of all the Sundays in June\n",
    "for i in range(1, 31):\n",
    "    if (i % 7) == 2:\n",
    "        print(i)"
   ]
  },
  {
   "cell_type": "code",
   "execution_count": null,
   "metadata": {},
   "outputs": [],
   "source": [
    "for i in range(1, 31, 7):\n",
    "    print(i + 1)"
   ]
  },
  {
   "cell_type": "markdown",
   "metadata": {},
   "source": [
    "## Exercise 04-2 Solution\n",
    "---"
   ]
  },
  {
   "cell_type": "code",
   "execution_count": null,
   "metadata": {},
   "outputs": [],
   "source": [
    "# Exercise 04-2: write a function to only print out the odd-numbered dates of all the Sundays in this June\n",
    "def odd_june_sundays():\n",
    "    \"Print the dates of odd Sundays in June 2019\"\n",
    "    for i in range(1, 31):\n",
    "        if ((i % 7) == 2) and (i % 2):\n",
    "            print(i)\n",
    "            \n",
    "odd_june_sundays()"
   ]
  },
  {
   "cell_type": "markdown",
   "metadata": {},
   "source": [
    "## Exercise 04-3 Solution\n",
    "---"
   ]
  },
  {
   "cell_type": "code",
   "execution_count": null,
   "metadata": {},
   "outputs": [],
   "source": [
    "# Exercise 04-3: write a function that takes the date of the first Sunday as a parameter and\n",
    "# prints out the dates of odd Sundays in any June\n",
    "# If this looks more complicated than your version, test your version with 7 as input and see if it works correctly\n",
    "def odd_june_sundays(first_sunday):\n",
    "    \"\"\"Print the dates of odd Sundays in June 2019.\n",
    "    \n",
    "    first_sunday is the date of the first Sunday. \"\"\"\n",
    "    first_sunday_zeroed = first_sunday - 1\n",
    "    for i in range(1, 31):\n",
    "        if (((i - 1) % 7) == first_sunday_zeroed) and (i % 2):\n",
    "            print(i)\n",
    "            \n",
    "june_sundays(1)"
   ]
  },
  {
   "cell_type": "markdown",
   "metadata": {},
   "source": [
    "## Exercise 04-4 Solutions\n",
    "---"
   ]
  },
  {
   "cell_type": "code",
   "execution_count": null,
   "metadata": {},
   "outputs": [],
   "source": [
    "# Exercise 04-4: write a function which prints out the day of the week on which that date falls in June 2019\n",
    "# First attempt\n",
    "def june(date):\n",
    "    \"\"\"Given an integer DATE in the month of June 2019, print which day of the week it falls on. \n",
    "    \n",
    "    In 2019, June starts on a Saturday. \"\"\"\n",
    "    if date == 1:\n",
    "        print(\"Saturday\")\n",
    "    elif date == 2:\n",
    "        print(\"Sunday\")\n",
    "    elif date == 3:\n",
    "        print(\"Monday\")\n",
    "    elif date == 4:\n",
    "        print(\"Tuesday\")\n",
    "    elif date == 5:\n",
    "        print(\"Wednesday\")\n",
    "    elif date == 6:\n",
    "        print(\"Thursday\")\n",
    "    # a lot more lines go here ...\n",
    "    elif date == 30:\n",
    "        print(\"Sunday\")\n",
    "        \n",
    "june(1)"
   ]
  },
  {
   "cell_type": "markdown",
   "metadata": {},
   "source": [
    "Pro:\n",
    "\n",
    "* Solves the problem\n",
    "* Simple\n",
    "\n",
    "Con:\n",
    "\n",
    "* Doesn't represent the problem well\n",
    "  * Arbitrary relationship between dates and days\n",
    "  * Misses obvious weekly regularity\n",
    "* `print` statements repeated many times\n",
    "* Not general\n",
    "* Limited to a single month"
   ]
  },
  {
   "cell_type": "code",
   "execution_count": null,
   "metadata": {},
   "outputs": [],
   "source": [
    "# Exercise 04-4: write a function which prints out the day of the week on which that date falls in June 2019\n",
    "# Second version\n",
    "def june(date):\n",
    "    \"\"\"Given an integer DATE in the month of June 2019, print which day of the week it falls on. \n",
    "    \n",
    "    In 2019, June starts on a Saturday. \"\"\"\n",
    "    weekday = (date % 7)\n",
    "    if weekday == 1:\n",
    "        print(\"Saturday\")\n",
    "    elif weekday == 2:\n",
    "        print(\"Sunday\")\n",
    "    elif weekday == 3:\n",
    "        print(\"Monday\")\n",
    "    elif weekday == 4:\n",
    "        print(\"Tuesday\")\n",
    "    elif weekday == 5:\n",
    "        print(\"Wednesday\")\n",
    "    elif weekday == 6:\n",
    "        print(\"Thursday\")\n",
    "    elif weekday == 0:\n",
    "        print(\"Friday\")\n",
    "        \n",
    "june(11)"
   ]
  },
  {
   "cell_type": "markdown",
   "metadata": {},
   "source": [
    "Pro:\n",
    "\n",
    "* Solves the problem\n",
    "* Captures weekly cycle\n",
    "* `print` statements not repeated (DRY)\n",
    "\n",
    "Con:\n",
    "\n",
    "* Arbitrary relationship between dates and days\n",
    "* Limited to a single month\n",
    "\n",
    "### Version 3\n",
    "\n",
    "* **Generalize** by adding an argument for the first day of the month\n",
    "* **Encapsulate** printing weekday names into its own function and **refactor**\n",
    "* Make data representation consistently zero-based"
   ]
  },
  {
   "cell_type": "code",
   "execution_count": null,
   "metadata": {},
   "outputs": [],
   "source": [
    "# Exercise 04-4: write a function which prints out the day of the week on which that date falls in June 2019\n",
    "# Third version\n",
    "# in 2019, June 1st fell on a Saturday (day=6)\n",
    "def day_of_week(date, first_day):\n",
    "    \"\"\"Given an integer DATE for a month that starts on FIRST_DAY, print\n",
    "    which day of the week it falls on. \n",
    "    \n",
    "    FIRST_DAY counts from 0, starting on Sunday. \"\"\"\n",
    "    # subtract 1 from date to make it zero-based like other math\n",
    "    date = date - 1\n",
    "    print_day((date + first_day) % 7)\n",
    "\n",
    "# separate out printing from computation\n",
    "def print_day(day):\n",
    "    \"\"\"Given an integer code DAY for a day of the week, print its corresponding name.\n",
    "    \n",
    "    DAY ranges from 0-6 (Sunday-Saturday). \n",
    "    \"\"\"\n",
    "    # If it's a string, convert it to an int (Postel's Law)\n",
    "    # principle: do such conversions early on\n",
    "    day = int(day)\n",
    "    if day == 0:\n",
    "        print(\"Sunday\")\n",
    "    elif day == 1:\n",
    "        print(\"Monday\")\n",
    "    elif day == 2:\n",
    "        print(\"Tuesday\")\n",
    "    elif day == 3:\n",
    "        print(\"Wednesday\")\n",
    "    elif day == 4:\n",
    "        print(\"Thursday\")\n",
    "    elif day == 5:\n",
    "        print(\"Friday\")\n",
    "    elif day == 6:\n",
    "        print(\"Saturday\")\n",
    "        \n",
    "day_of_week(11, 6)"
   ]
  },
  {
   "cell_type": "markdown",
   "metadata": {},
   "source": [
    "What additional improvements could you make to this function? "
   ]
  }
 ],
 "metadata": {
  "kernelspec": {
   "display_name": "Python 3",
   "language": "python",
   "name": "python3"
  },
  "language_info": {
   "codemirror_mode": {
    "name": "ipython",
    "version": 3
   },
   "file_extension": ".py",
   "mimetype": "text/x-python",
   "name": "python",
   "nbconvert_exporter": "python",
   "pygments_lexer": "ipython3",
   "version": "3.7.3"
  }
 },
 "nbformat": 4,
 "nbformat_minor": 2
}
