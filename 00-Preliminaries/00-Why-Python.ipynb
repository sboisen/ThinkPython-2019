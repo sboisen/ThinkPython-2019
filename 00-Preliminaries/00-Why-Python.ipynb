{
 "cells": [
  {
   "cell_type": "markdown",
   "metadata": {},
   "source": [
    "## Why Python?\n",
    "\n",
    "* It's been around since 1991 (longer than Java).\n",
    "* Among the top programming languages for learnability, breadth of community, and earning power.\n",
    "* Scales down to embedded devices (like Raspberry Pi and [Circuit Playground Express](https://www.adafruit.com/product/3333)), scales up to huge web-scale services. \n",
    "* It's free and open source, so you can use it however you want. \n",
    "* \"Batteries included\": a large library provides a wide variety of functionality. \n",
    "* A supportive community.\n",
    "\n",
    "* [10 Reasons to Learn Python in 2018 – Hacker Noon](https://hackernoon.com/10-reasons-to-learn-python-in-2018-f473dc35e2ee)"
   ]
  }
 ],
 "metadata": {
  "kernelspec": {
   "display_name": "Python 3",
   "language": "python",
   "name": "python3"
  },
  "language_info": {
   "codemirror_mode": {
    "name": "ipython",
    "version": 3
   },
   "file_extension": ".py",
   "mimetype": "text/x-python",
   "name": "python",
   "nbconvert_exporter": "python",
   "pygments_lexer": "ipython3",
   "version": "3.7.3"
  }
 },
 "nbformat": 4,
 "nbformat_minor": 2
}
