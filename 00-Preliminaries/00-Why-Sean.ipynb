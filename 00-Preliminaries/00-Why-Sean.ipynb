{
 "cells": [
  {
   "cell_type": "markdown",
   "metadata": {},
   "source": [
    "# About Sean\n",
    "\n"
   ]
  },
  {
   "cell_type": "markdown",
   "metadata": {},
   "source": [
    "* No degree in computer science (gasp!)\n",
    "* BA in anthopology and linguistics (Occidental College)\n",
    "* MA in computational linguistics (UCLA)\n",
    "* Coursework in distance education (UMUC)\n",
    "* Visiting professor at Claremont McKenna College (CA), Nyack College (DC)\n",
    "* 12 years at Faithlife and counting"
   ]
  },
  {
   "cell_type": "markdown",
   "metadata": {},
   "source": [
    "## Languages I've Programmed In\n",
    "\n",
    "WORDCLOUD GOES HERE"
   ]
  },
  {
   "cell_type": "code",
   "execution_count": null,
   "metadata": {},
   "outputs": [],
   "source": []
  }
 ],
 "metadata": {
  "kernelspec": {
   "display_name": "Python 3",
   "language": "python",
   "name": "python3"
  },
  "language_info": {
   "codemirror_mode": {
    "name": "ipython",
    "version": 3
   },
   "file_extension": ".py",
   "mimetype": "text/x-python",
   "name": "python",
   "nbconvert_exporter": "python",
   "pygments_lexer": "ipython3",
   "version": "3.7.3"
  }
 },
 "nbformat": 4,
 "nbformat_minor": 2
}
