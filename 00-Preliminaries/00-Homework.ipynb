{
 "cells": [
  {
   "cell_type": "markdown",
   "metadata": {},
   "source": [
    "# Homework\n",
    "\n",
    "Before the next class:\n",
    "\n",
    "* Open your Command Line Interface (CLI), display the contents of your home directory, and identify the oldest file. If you're not sure how, try using the system help or Google to figure it out. \n",
    "* Get comfortable with JupyterLab\n",
    "    * Try creating, editing, and moving cells.\n",
    "    * Try out Command Mode vs Edit Mode. \n",
    "    * Figure out how the left panel works.\n",
    "    * Enter `import this` in a code cell and execute it to learn more about Python's philosophy. \n",
    "* Read chapters 1 and 2 in Think Python."
   ]
  },
  {
   "cell_type": "markdown",
   "metadata": {},
   "source": [
    "## Jupyter Keyboard Shortcuts\n",
    "\n",
    "### Edit Mode\n",
    "\n",
    "To enter Edit Mode you need to click on a cell or hit enter when it is surrounded by the blue outline. You will see that it goes green if you are in edit mode. In edit mode you have basic editing functionality. A few keys to know:\n",
    "\n",
    "* `Ctr-Enter` - Run cell (execute Python code, render Markdown)\n",
    "* `ESC` - Go back to command mode\n",
    "* `TAB` - Tab completion\n",
    "* `Shift-TAB` - Bring up tooltip (ESC to dismiss)\n",
    "\n",
    "### Command Mode\n",
    "\n",
    "Command Mode gives to the ability to create, copy, paste, move, and execute cells. A few keys to know:\n",
    "\n",
    "* `h` - Bring up help (ESC to dismiss)\n",
    "* `b` - Create cell below\n",
    "* `a` - Create cell above\n",
    "* `c` - Copy cell\n",
    "* `v` - Paste cell below\n",
    "* `Enter` - Go into Edit Mode\n",
    "* `m` - Change cell type to Markdown\n",
    "* `y` - Change cell type to code\n",
    "* `ii` - Interrupt kernel\n",
    "* `oo` - Restart kernel"
   ]
  },
  {
   "cell_type": "code",
   "execution_count": null,
   "metadata": {},
   "outputs": [],
   "source": []
  }
 ],
 "metadata": {
  "kernelspec": {
   "display_name": "Python 3",
   "language": "python",
   "name": "python3"
  },
  "language_info": {
   "codemirror_mode": {
    "name": "ipython",
    "version": 3
   },
   "file_extension": ".py",
   "mimetype": "text/x-python",
   "name": "python",
   "nbconvert_exporter": "python",
   "pygments_lexer": "ipython3",
   "version": "3.7.3"
  }
 },
 "nbformat": 4,
 "nbformat_minor": 2
}
