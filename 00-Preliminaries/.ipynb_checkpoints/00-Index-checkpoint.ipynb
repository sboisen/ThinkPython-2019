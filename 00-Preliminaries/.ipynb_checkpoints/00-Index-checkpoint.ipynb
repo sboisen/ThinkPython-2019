{
 "cells": [
  {
   "cell_type": "markdown",
   "metadata": {},
   "source": [
    "# Week 00: Preliminaries\n",
    "\n",
    "Week 00 will focus on introducing the class and setting up the tools we'll use.\n",
    "\n",
    "* [Course Overview](00-Overview.ipynb)\n",
    "* [Installation](00-Installation.ipynb)\n",
    "* [Exercises](00-Exercises.ipynb)\n"
   ]
  }
 ],
 "metadata": {
  "kernelspec": {
   "display_name": "Python 3",
   "language": "python",
   "name": "python3"
  },
  "language_info": {
   "codemirror_mode": {
    "name": "ipython",
    "version": 3
   },
   "file_extension": ".py",
   "mimetype": "text/x-python",
   "name": "python",
   "nbconvert_exporter": "python",
   "pygments_lexer": "ipython3",
   "version": "3.7.3"
  }
 },
 "nbformat": 4,
 "nbformat_minor": 2
}
