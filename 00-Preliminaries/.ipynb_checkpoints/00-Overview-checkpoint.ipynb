{
 "cells": [
  {
   "cell_type": "markdown",
   "metadata": {},
   "source": [
    "# Course Overview\n",
    "\n",
    "## Lesson Objectives\n",
    "\n",
    "* Introduce the course: objectives, schedule, materials, learning strategy\n",
    "\n",
    "<hr />"
   ]
  },
  {
   "cell_type": "markdown",
   "metadata": {},
   "source": [
    "## Course Objectives\n",
    "\n",
    "* Get a basic tech setup for self-directed learning  \n",
    "* Introduce Python programming  \n",
    "* Introduce basic principles of computational thinking, structured problem solving, quantitative thinking, and how to think about data  \n",
    "* Identify Faithlife uses for programming (I'll need your help with this)\n",
    "* Provide well-curated resources for you to refer back to and study further.  \n",
    "  * I’ll publish class notes, programming exercises, and links to additional resources for each class session.  \n",
    "  \n"
   ]
  },
  {
   "cell_type": "markdown",
   "metadata": {},
   "source": [
    "## Schedule\n",
    "  \n",
    "* 13-15 class sessions, Tuesday afternoons\n",
    "* We can arrange for one on-line group office hour every week or two (or on demand).\n",
    "* Beyond that, I'll try to respond to [Faithlife Messages](https://faithlife.com/messages) as best I can, but no guarantees. \n",
    "    * Strong preference: **post your questions in the Faithlife Group** for everyone to see. \n",
    "* Use my notes, your colleagues, and the web as your resources. \n",
    "\n",
    "![xkcd: Team Chat](../meta/images/XKCD-team_chat_2x.png)\n",
    "(IRC = Internet Relay Chat, an early Web chat program)"
   ]
  },
  {
   "cell_type": "markdown",
   "metadata": {},
   "source": [
    "## Course Materials\n",
    "\n",
    "* I'll publish my class notes as [Jupyter Notebooks](https://jupyter.org/). \n",
    "    * You'll make your own local copies for exercises and note-taking. \n",
    "* [Think Python (2nd Edition)](https://greenteapress.com/wp/think-python-2e/)\n",
    "    * The textbook for the course. We'll be selective about which parts we cover. \n",
    "    * I'll order paper copies for those who want one (indicate on the sign-up sheet)"
   ]
  },
  {
   "cell_type": "markdown",
   "metadata": {},
   "source": [
    "## Learning Strategies\n",
    "\n",
    "* There will be specific learning objectives for each week. \n",
    "* We'll mix Python knowledge, programming concepts, and best practices throughout. \n",
    "* Class sessions will mix \"lecture\" (me talking through the notes), Q&A, and hands-on exercises. \n",
    "* You'll have weekly reading assignments, mostly from Think Python. \n",
    "\n",
    "Recognize that *practice is essential to learning* (including regular failure): simply listening and reading won't do much. \n"
   ]
  },
  {
   "cell_type": "markdown",
   "metadata": {},
   "source": [
    "## Exercise: Plan Your Success\n",
    "\n",
    "\"Many scientific studies\" \\[citation needed\\] have shown you're more likely to succeed in self-directed courses where you have a *defined time for study*. **Decide now when you'll study** and block out 2 hours in your schedule each week to\n",
    "\n",
    "* Review notes from the previous class and ask any questions.\n",
    "* Do the reading assignment.\n",
    "* Check out some of the Additional Resources if time allows.\n",
    "\n",
    "### Best Practice: When to do analytical tasks\n",
    "\n",
    "According to research presented by Daniel Pink in [When: The Scientific Secrets of Perfect Timing, by Daniel H. Pink](https://www.amazon.com/When-Scientific-Secrets-Perfect-Timing-ebook/dp/B072Q985YX?&_encoding=UTF8&tag=semanticbible-20&linkCode=ur2&linkId=c5e8d9a8f16398444afcec506a6346ef&camp=1789&creative=9325), most people exhibit a peak, a trough, and a rebound in their daily energy levels (and for 75% of people, mornings are the peak). So it's important to align your most important tasks with your peaks. (Yes, I recognize the irony that I've scheduled our class for what is a trough time for most people.)\n"
   ]
  },
  {
   "cell_type": "code",
   "execution_count": null,
   "metadata": {},
   "outputs": [],
   "source": []
  }
 ],
 "metadata": {
  "kernelspec": {
   "display_name": "Python 3",
   "language": "python",
   "name": "python3"
  },
  "language_info": {
   "codemirror_mode": {
    "name": "ipython",
    "version": 3
   },
   "file_extension": ".py",
   "mimetype": "text/x-python",
   "name": "python",
   "nbconvert_exporter": "python",
   "pygments_lexer": "ipython3",
   "version": "3.7.3"
  }
 },
 "nbformat": 4,
 "nbformat_minor": 2
}
