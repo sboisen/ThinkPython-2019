{
 "cells": [
  {
   "cell_type": "markdown",
   "metadata": {},
   "source": [
    "# Installation\n",
    "\n",
    "## Lesson Objectives\n",
    "\n",
    "* Understand the different technology tools we'll use and their roles. \n",
    "* Know how to start a terminal and enter a command.\n",
    "* Install and run Jupyterlab notebooks. \n",
    "* Make sure everyone has the tools installed and knows how to get started with them. \n",
    "\n",
    "## The Tools\n",
    "\n",
    "* [Command Line Interface](#Command-Line-Interface-(CLI))\n",
    "* [Anaconda Python](#Anaconda-Python)\n",
    "* [Jupyter Lab](#Jupyter-Lab)\n",
    "* [Additional Resources](#Additional-Resources)\n",
    "\n",
    "<hr />"
   ]
  },
  {
   "cell_type": "markdown",
   "metadata": {},
   "source": [
    "## Command Line Interface (CLI)\n",
    "\n",
    "You need to get comfortable with working with a command line interface: it's essential for a few essential tasks like installing software. \n",
    "\n",
    "You already have this software on your computer, though you may never use it. \n",
    "\n",
    "### Opening a CLI\n",
    "\n",
    "* Windows: \n",
    "    * Press Windows key, type `command` to start the Command Prompt tool\n",
    "    \n",
    "* Mac: \n",
    "    * use Launchpad to launch Terminal, *or*\n",
    "    * Press Cmd + space, type `terminal`\n"
   ]
  },
  {
   "cell_type": "markdown",
   "metadata": {},
   "source": [
    "## Anaconda Python\n",
    "\n",
    "There are many distributions of Python available, but we're going to use Anaconda Python for its simplicity of installation and library management (which we'll explain later). \n",
    "\n",
    "`miniconda` is an *installer* for `conda`, which is a package and environment manager program. You don't need to understand all of what that means at this point. The key advantages for our purposes:\n",
    "\n",
    "* It makes installation simple and standard\n",
    "* It makes it easy later to add *libraries* (one of things that makes Python a great language)\n",
    "\n",
    "Note that it does not have a GUI: you'll need to use the CLI. "
   ]
  },
  {
   "cell_type": "markdown",
   "metadata": {},
   "source": [
    "### Anaconda Installation\n",
    "\n",
    "* Visit https://conda.io/miniconda.html in a browser. \n",
    "* Download and run the appropriate installer for your operating system (probably the 64-bit one unless you know otherwise). Make sure it's Python 3.7, *not* Python 2.7 (which reaches end-of-life in 2020). For Mac, you might find the package installer (`.pkg`) easier. \n",
    "* Agree to the license\n",
    "* Installing just for you is fine.\n",
    "* The default installation directory should also be fine, but pay attention to where that is so you can find it later. \n",
    "* Windows has two options, one off and one on: those are probably good choices. \n",
    "\n",
    "Once the installer has completed, you may need to close your terminal and re-open it. \n",
    "\n",
    "For Windows, you can now start a special Anaconda terminal (CLI) by pressing the Windows key and typing Anaconda. It should look like your previous terminal, but it knows how to find the conda program. For Mac, you should be all set. \n",
    "\n",
    "Now test your installation by running the command `conda list` in a terminal. If this shows many lists of output, conda is successfully installed. If not, you'll have to fix this before proceeding.\n",
    "\n",
    "Now type `conda install git jupyter jupyterlab` in a terminal to install the Jupyter packages. Once that's concluded successfully, you should be able to start a Jupyter lab notebook by typing `conda run jupyter lab`. This will open a new tab in your browser, and you should see something like this (with different directories on the left):\n",
    "\n",
    "![Jupyter Lab start-up](../meta/images/JupyterLab.png)\n",
    "\n",
    "Note: if you know what you're doing, and prefer another distribution of Python 3, go for it. But for simplicity in the class, I'm going to assume Anaconda Python as the standard, and less help may be available if you choose something different. "
   ]
  },
  {
   "cell_type": "markdown",
   "metadata": {},
   "source": [
    "## Github\n",
    "\n",
    "Github is a distributed version control system, and it's become the standard way for people to share code with others. \n",
    "\n",
    "All materials for this course will be shared at this URL: "
   ]
  },
  {
   "cell_type": "markdown",
   "metadata": {},
   "source": [
    "## Jupyter Lab\n",
    "\n"
   ]
  },
  {
   "cell_type": "markdown",
   "metadata": {},
   "source": [
    "## Other Tools\n",
    "\n",
    "This is enough to get us started, but later we'll need more:\n",
    "\n",
    "* I'll distribute notebooks through github.com, so you'll need to set up an account there. \n",
    "* A code editor (not to be confused with MS Word!). If you already have an editor you like and it supports Python (like TextEdit, Atom, or Sublime), great! \n",
    "    * If not, i recommend trying [Visual Studio Code](https://code.visualstudio.com/docs). Be sure to add the Python and Live Share extensions. Live Share supports collaborative editing and debugging, so it may be especially useful for remote participants (but i haven't used it yet). "
   ]
  },
  {
   "cell_type": "markdown",
   "metadata": {},
   "source": [
    "<hr />\n",
    "\n",
    "## Additional Resources\n",
    "\n",
    "* [Command\\-line interface \\- Wikipedia](https://en.wikipedia.org/wiki/Command-line_interface)\n",
    "    * [The Command Line In 2004](http://garote.bdmonkeys.net/commandline/index.html). An update to a classic essay by Neal Stephenson.\n",
    "> [Stephenson explores the GUI as a metaphor in terms of the increasing interposition of abstractions between humans and the actual workings of devices \\(in a similar manner to Zen and the Art of Motorcycle Maintenance\\) and explains the beauty hackers feel in good\\-quality tools\\.](https://en.wikipedia.org/wiki/In_the_Beginning..._Was_the_Command_Line)\n",
    "* [Conda](https://docs.conda.io/projects/conda/en/latest/)\n",
    "* [The JupyterLab Interface](https://jupyterlab.readthedocs.io/en/stable/user/interface.html) explains the layout of Jupyterlab. Remember you're using an editor *inside a browser*, which can be confusing. \n",
    "* Text cells in Jupyter use the simple formatting language of [Markdown \\- Wikipedia](https://en.wikipedia.org/wiki/Markdown) which is worth learning. "
   ]
  },
  {
   "cell_type": "code",
   "execution_count": null,
   "metadata": {},
   "outputs": [],
   "source": []
  }
 ],
 "metadata": {
  "kernelspec": {
   "display_name": "Python 3",
   "language": "python",
   "name": "python3"
  },
  "language_info": {
   "codemirror_mode": {
    "name": "ipython",
    "version": 3
   },
   "file_extension": ".py",
   "mimetype": "text/x-python",
   "name": "python",
   "nbconvert_exporter": "python",
   "pygments_lexer": "ipython3",
   "version": "3.7.3"
  }
 },
 "nbformat": 4,
 "nbformat_minor": 2
}
