{
 "cells": [
  {
   "cell_type": "markdown",
   "metadata": {},
   "source": [
    "# Installation\n",
    "\n",
    "## Lesson Objectives\n",
    "\n",
    "* Understand the different technology tools we'll use and their roles. \n",
    "* Know how to start a terminal and enter a command.\n",
    "* Install and run Jupyterlab notebooks. \n",
    "* Make sure everyone has the tools installed and knows how to get started with them. \n",
    "\n",
    "## The Tools\n",
    "\n",
    "* [Command Line Interface](#Command-Line-Interface-(CLI))\n",
    "* [Anaconda Python](#Anaconda-Python)\n",
    "* [Git and Github](#Git-and-Github)\n",
    "* [Jupyter Lab](#Jupyter-Lab)\n",
    "* [Other Tools](#Other-Tools)\n",
    "* [Additional Resources](#Additional-Resources)\n",
    "\n",
    "<hr />"
   ]
  },
  {
   "cell_type": "markdown",
   "metadata": {},
   "source": [
    "## Command Line Interface (CLI)\n",
    "\n",
    "You need to get comfortable with working with a command line interface: it's essential for a few essential tasks like installing software. \n",
    "\n",
    "You already have this software on your computer, though you may never use it. \n",
    "\n",
    "### Opening a CLI\n",
    "\n",
    "* Windows: \n",
    "    * Press Windows key, type `command` to start the Command Prompt tool\n",
    "    \n",
    "* Mac: \n",
    "    * use Launchpad to launch Terminal, *or*\n",
    "    * Press Cmd + space, type `terminal`\n",
    "\n",
    "![Pulse Check](../meta/images/pulse-check.png)\n"
   ]
  },
  {
   "cell_type": "markdown",
   "metadata": {},
   "source": [
    "## Anaconda Python\n",
    "\n",
    "There are many distributions of Python available, but we're going to use Anaconda Python for its simplicity of installation and library management (which we'll explain later). \n",
    "\n",
    "`miniconda` is an *installer* for `conda`, which is a package and environment manager program. You don't need to understand all of what that means at this point. The key advantages for our purposes:\n",
    "\n",
    "* It makes installation simple and standard\n",
    "* It makes it easy later to add *libraries* (one of things that makes Python a great language)\n",
    "\n",
    "Note that it does not have a GUI: you'll need to use the CLI. "
   ]
  },
  {
   "cell_type": "markdown",
   "metadata": {},
   "source": [
    "### Anaconda Installation\n",
    "\n",
    "* Visit https://conda.io/miniconda.html in a browser. \n",
    "* Download and run the appropriate installer for your operating system (probably the 64-bit one unless you know otherwise). Make sure it's Python 3.7, *not* Python 2.7 (which reaches end-of-life in 2020). For Mac, you might find the package installer (`.pkg`) easier. \n",
    "* Agree to the license\n",
    "* Installing just for you is fine.\n",
    "* The default installation directory might be okay: a safe bet is (your home directory)/miniconda3. Pay attention to where that is so you can find it later. \n",
    "* Windows has two options, one off and one on: those are probably good choices. \n",
    "\n",
    "For Windows, you can now start a special Anaconda terminal (CLI) by pressing the Windows key and typing Anaconda. It should look like your previous terminal, but it knows how to find the conda program. If you're a Powershell ninja, you can probably use that if you modify your system path first (that's on you, ninja). \n",
    "\n",
    "For Mac, you should close your terminal and open a new one, and then you should be all set to run conda. \n",
    "\n",
    "Now test your installation by running the command `conda list` in a terminal. If this shows many linesm of output, conda is successfully installed. If not, you'll have to fix this before proceeding.\n",
    "\n",
    "Now type `conda install git jupyter jupyterlab` in a terminal to install the Jupyter packages. Once that's concluded successfully, you should be able to start a Jupyter lab notebook by typing `conda run jupyter lab`. This will open a new tab in your browser, and you should see something like this (with different directories on the left):\n",
    "\n",
    "![Jupyter Lab start-up](../meta/images/JupyterLab.png)\n",
    "\n",
    "![Pulse Check](../meta/images/pulse-check.png)\n",
    "\n",
    "We'll come back to JupyterLab in a minute: for now, go to File > Quit to quit the Jupyterlab server (we'll explain this more in a minute). (UPDATE: this is better than what I said in class)\n",
    "\n",
    "<img src=\"../meta/images/Quit-JupyterLab.png\" style='float:right;'/>\n",
    "\n",
    "\n",
    "Note: if you know what you're doing, and prefer another distribution of Python 3, go for it. But for simplicity in the class, I'm going to assume Anaconda Python as the standard, and less help may be available if you choose something different. "
   ]
  },
  {
   "cell_type": "markdown",
   "metadata": {},
   "source": [
    "## Git and Github\n",
    "\n",
    "Git is a distributed version control system, and it's become the standard way for people to share code with others. All materials for this course will be shared from a Github *repository* ('repo' for short). https://Github.com is a public site for Git repositories: Faithlife has their own distinct private site at https://git, which is separate collection of Git repositories (not the same thing as github.com). \n",
    "\n",
    "<img src=\"../meta/images/XKCD-git.png\" style='float:right;'/>\n",
    "\n",
    "\n",
    "**The Github repo for this class** (you might want to bookmark it): https://github.com/sboisen/ThinkPython-2019 \n",
    "\n",
    "To download materials from Git using the CLI:\n",
    "\n",
    "* Best practice: first make a directory for Git repositories. If you don't already have one, i suggest making one called \"git\" in your home directory (wherever you are when you open a terminal). For example, if your terminal opens to `C:\\Users\\FaithlifeFred`, then make a `git` directory there. \n",
    "    * Hencefore we'll call this \"your (local) Git directory\". \n",
    "* To get the files for this class:\n",
    "    * Open your terminal\n",
    "    * Change to your local Git directory (`cd git`)\n",
    "    * Then type this (not including the \"\\$\", which stand for the shell prompt):\n",
    "```\n",
    "$ git clone https://github.com/sboisen/ThinkPython-2019 \n",
    "```\n",
    "    * This will download all the files in the repository to your local directory. \n",
    "    * Note these files will get updated for each week, so you'll have to \"pull\"  from the repo (in Git jargon) to get the latest changes *before each class*. \n",
    "    * Magic commands to memorize coming soon ...\n",
    "    \n",
    "![Pulse Check](../meta/images/pulse-check.png)\n"
   ]
  },
  {
   "cell_type": "markdown",
   "metadata": {},
   "source": [
    "## Jupyter Lab\n",
    "\n",
    "The moment of truth: let's see if you can access your newly cloned files using Jupyterlab. \n",
    "\n",
    "* Open your terminal (your *Anaconda* terminal on Windows)\n",
    "* `cd git`\n",
    "* Start Jupyterlab\n",
    "\n",
    "If you've now got Jupyterlab running in a browser, post your blue note. \n",
    "\n",
    "![Pulse Check](../meta/images/pulse-check.png)\n"
   ]
  },
  {
   "cell_type": "markdown",
   "metadata": {},
   "source": [
    "## Working in Jupyterlab \n",
    "\n",
    "* The Jupyter *server* runs Python and other code: the notebook runs in your browser and talks to the server. \n",
    "* Notebooks combine code, text, and visualizations in a sequence of cells. \n",
    "    * [Notebooks](https://jupyterlab.readthedocs.io/en/stable/user/notebook.html) has more information\n",
    "* Cells are in one of two *modes*:\n",
    "    * Edit mode: you can select text, change the contents, and get code help.\n",
    "    * Command mode: code is executed; text/Markdown is displayed; graphs are generated; etc.\n",
    "    * Press return in a selected cell to enter edit mode.\n",
    "    * Shift-Enter to run (execute) a cell and switch from edit mode to command mode.\n",
    "    * Different operations are possible depending on the current mode of the cell. \n",
    "* Cells can be copied, moved, add, deleted, etc. (in command mode)\n",
    "* Cells are one the several *types*. The two you need to know:\n",
    "    * *Code* cells are for executing Python code. They have a number in brackets to the left. \n",
    "    * *Markdown* cells are for text in Markdown format (see Help > Markdown Reference for more information)\n",
    "    \n",
    "For this class:\n",
    "\n",
    "* All notes will be distributed as Jupyter notebooks. \n",
    "* You'll do in-class exercises in a local copy of the notebook"
   ]
  },
  {
   "cell_type": "code",
   "execution_count": 4,
   "metadata": {},
   "outputs": [
    {
     "name": "stdout",
     "output_type": "stream",
     "text": [
      "Hello world!\n"
     ]
    }
   ],
   "source": [
    "print(\"Hello world!\")"
   ]
  },
  {
   "cell_type": "code",
   "execution_count": 5,
   "metadata": {},
   "outputs": [
    {
     "name": "stdout",
     "output_type": "stream",
     "text": [
      "The Zen of Python, by Tim Peters\n",
      "\n",
      "Beautiful is better than ugly.\n",
      "Explicit is better than implicit.\n",
      "Simple is better than complex.\n",
      "Complex is better than complicated.\n",
      "Flat is better than nested.\n",
      "Sparse is better than dense.\n",
      "Readability counts.\n",
      "Special cases aren't special enough to break the rules.\n",
      "Although practicality beats purity.\n",
      "Errors should never pass silently.\n",
      "Unless explicitly silenced.\n",
      "In the face of ambiguity, refuse the temptation to guess.\n",
      "There should be one-- and preferably only one --obvious way to do it.\n",
      "Although that way may not be obvious at first unless you're Dutch.\n",
      "Now is better than never.\n",
      "Although never is often better than *right* now.\n",
      "If the implementation is hard to explain, it's a bad idea.\n",
      "If the implementation is easy to explain, it may be a good idea.\n",
      "Namespaces are one honking great idea -- let's do more of those!\n"
     ]
    }
   ],
   "source": [
    "import this"
   ]
  },
  {
   "cell_type": "markdown",
   "metadata": {},
   "source": [
    "## Other Tools\n",
    "\n",
    "This is enough to get us started, but later we'll need more:\n",
    "\n",
    "* [GitHub Desktop](https://desktop.github.com/) is easier than the CLI for interacting with Git repositories. See if you can install it, then go to Preferences / Accounts to sign into your Github.com account. Then use File > Add local repository to add the repository that you've already cloned (hope you remembered where it is!). \n",
    "* Eventually we'll edit files of Python code outside Jupyter, which requires a code editor (not to be confused with MS Word!). If you already have an editor you like and it supports Python (like TextEdit, Atom, or Sublime), great! \n",
    "    * If not, i recommend trying [Visual Studio Code](https://code.visualstudio.com/docs). Be sure to add the Python and Live Share extensions. Live Share supports collaborative editing and debugging, so it may be especially useful for remote participants (but i haven't used it yet). "
   ]
  },
  {
   "cell_type": "markdown",
   "metadata": {},
   "source": [
    "<hr />\n",
    "\n",
    "## Additional Resources\n",
    "\n",
    "* [Command\\-line interface \\- Wikipedia](https://en.wikipedia.org/wiki/Command-line_interface)\n",
    "    * [The Command Line In 2004](http://garote.bdmonkeys.net/commandline/index.html). An update to a classic essay by Neal Stephenson.\n",
    "> [Stephenson explores the GUI as a metaphor in terms of the increasing interposition of abstractions between humans and the actual workings of devices \\(in a similar manner to Zen and the Art of Motorcycle Maintenance\\) and explains the beauty hackers feel in good\\-quality tools\\.](https://en.wikipedia.org/wiki/In_the_Beginning..._Was_the_Command_Line)\n",
    "* [Conda](https://docs.conda.io/projects/conda/en/latest/)\n",
    "* [The JupyterLab Interface](https://jupyterlab.readthedocs.io/en/stable/user/interface.html) explains the layout of Jupyterlab. Remember you're using an editor *inside a browser*, which can be confusing. \n",
    "* Text cells in Jupyter use the simple formatting language of [Markdown \\- Wikipedia](https://en.wikipedia.org/wiki/Markdown) which is worth learning. \n",
    "* It's worth learning some [Jupyter Python Notebook Keyboard Shortcuts and Text Snippets for Beginners](http://maxmelnick.com/2016/04/19/python-beginner-tips-and-tricks.html) (don't worry about the Text Snippets part for now). "
   ]
  },
  {
   "cell_type": "code",
   "execution_count": null,
   "metadata": {},
   "outputs": [],
   "source": []
  }
 ],
 "metadata": {
  "kernelspec": {
   "display_name": "Python 3",
   "language": "python",
   "name": "python3"
  },
  "language_info": {
   "codemirror_mode": {
    "name": "ipython",
    "version": 3
   },
   "file_extension": ".py",
   "mimetype": "text/x-python",
   "name": "python",
   "nbconvert_exporter": "python",
   "pygments_lexer": "ipython3",
   "version": "3.7.3"
  }
 },
 "nbformat": 4,
 "nbformat_minor": 2
}
