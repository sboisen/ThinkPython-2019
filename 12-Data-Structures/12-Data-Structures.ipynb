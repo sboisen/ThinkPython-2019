{
 "cells": [
  {
   "cell_type": "markdown",
   "metadata": {},
   "source": [
    "# Think Python, Week 12: Data Structure Selection\n",
    "\n",
    "<img src='../meta/images/python-logo.png' style=\"float:right\">\n",
    "\n",
    "## Objectives\n",
    "---\n",
    "\n",
    "* Work some exercises together"
   ]
  },
  {
   "cell_type": "markdown",
   "metadata": {},
   "source": [
    "## Exercise 13-1\n",
    "---\n",
    "\n",
    "> “Write a program that reads a file, breaks each line into words, strips whitespace and punctuation from the words, and converts them to lowercase.”\n",
    "\n",
    "* Process\n",
    "  * Decompose the problem into separate pieces for simplicity, re-usability, and easier debugging\n",
    "  * I usually prefer to work bottom-up, from the smallest pieces to the biggest ones\n",
    "  * I've included a simple text file, 'forgiveness.txt'"
   ]
  },
  {
   "cell_type": "markdown",
   "metadata": {},
   "source": [
    "Identifying the components of the solution (bottom-up order): discuss together.\n",
    "\n",
    "* (Step 1)\n",
    "\n",
    "**Try finding a solution before looking below**\n",
    "\n",
    "<hr />"
   ]
  },
  {
   "cell_type": "code",
   "execution_count": null,
   "metadata": {},
   "outputs": [],
   "source": [
    "# clean and lowercase word\n",
    "import string\n",
    "\n",
    "def clean(word):\n",
    "    cleaned = []\n",
    "    for c in word:\n",
    "        if c not in string.punctuation:\n",
    "            cleaned.append(c.lower())\n",
    "    return ''.join(cleaned)"
   ]
  },
  {
   "cell_type": "code",
   "execution_count": null,
   "metadata": {},
   "outputs": [],
   "source": [
    "string.punctuation"
   ]
  },
  {
   "cell_type": "code",
   "execution_count": null,
   "metadata": {},
   "outputs": [],
   "source": [
    "clean(\"What'sNew?\")"
   ]
  },
  {
   "cell_type": "code",
   "execution_count": null,
   "metadata": {},
   "outputs": [],
   "source": [
    "clean(\"*\")"
   ]
  },
  {
   "cell_type": "markdown",
   "metadata": {},
   "source": [
    "<hr />"
   ]
  },
  {
   "cell_type": "code",
   "execution_count": null,
   "metadata": {},
   "outputs": [],
   "source": [
    "# split line into words\n",
    "def linewords(line):\n",
    "    return line.split(' ')"
   ]
  },
  {
   "cell_type": "code",
   "execution_count": null,
   "metadata": {},
   "outputs": [],
   "source": [
    "myline = \"* The geographical significance of the two feeding miracles brings fresh understanding to Jesus' warning.\"\n",
    "linewords(myline)"
   ]
  },
  {
   "cell_type": "code",
   "execution_count": null,
   "metadata": {},
   "outputs": [],
   "source": [
    "for w in linewords(myline):\n",
    "    print(clean(w))"
   ]
  },
  {
   "cell_type": "markdown",
   "metadata": {},
   "source": [
    "<hr />"
   ]
  },
  {
   "cell_type": "code",
   "execution_count": null,
   "metadata": {},
   "outputs": [],
   "source": [
    "# read a file, get words for each line, and clean them\n",
    "def filewords(file):\n",
    "    f = open(file)\n",
    "    words = []\n",
    "    for line in f:\n",
    "        for w in linewords(line):\n",
    "            w = clean(w.strip())\n",
    "            if w:\n",
    "                words.append(w)\n",
    "    return words"
   ]
  },
  {
   "cell_type": "markdown",
   "metadata": {},
   "source": [
    "filewords('forgiveness.txt')"
   ]
  },
  {
   "cell_type": "markdown",
   "metadata": {},
   "source": [
    "**Discussion**: what is a word? "
   ]
  },
  {
   "cell_type": "markdown",
   "metadata": {},
   "source": [
    "## Exercise 13-2\n",
    "---\n",
    "\n",
    "* Count the number of times each 'word' occurs\n",
    "* How many different words are there? \n",
    "\n",
    "**Terminology**: For problems like this\n",
    "\n",
    "* Each different class (here, a word) is called a 'type'\n",
    "* Each occurrence of it is called a 'token' or an 'instance' (though for word problem, we might also use 'vocabulary')\n",
    "\n",
    "So we're counting both the number of *types*, and the *token* count for each type. "
   ]
  },
  {
   "cell_type": "code",
   "execution_count": null,
   "metadata": {},
   "outputs": [],
   "source": [
    "# dictionaries make counting easy\n",
    "def counter(l):\n",
    "    cdict = dict()\n",
    "    for item in l:\n",
    "        if item not in cdict:\n",
    "            cdict[item] = 0\n",
    "        cdict[item] += 1\n",
    "    return cdict"
   ]
  },
  {
   "cell_type": "code",
   "execution_count": null,
   "metadata": {},
   "outputs": [],
   "source": [
    "worddict = counter(filewords('forgiveness.txt'))\n",
    "print(\"Number of word types: \", len(worddict))\n",
    "print(\"Count for 'the': \", worddict['the'])"
   ]
  },
  {
   "cell_type": "markdown",
   "metadata": {},
   "source": [
    "**Discussion**: what else might you want a counter to do? "
   ]
  },
  {
   "cell_type": "markdown",
   "metadata": {},
   "source": [
    "## Using the Biblia API\n",
    "---"
   ]
  },
  {
   "cell_type": "code",
   "execution_count": null,
   "metadata": {},
   "outputs": [],
   "source": [
    "# standard Python modules for working with and opening URLs\n",
    "import urllib\n",
    "\n",
    "# put your API key in key.py like this\n",
    "# KEY = 'abcdefghi'\n",
    "from key import KEY\n"
   ]
  },
  {
   "cell_type": "code",
   "execution_count": null,
   "metadata": {},
   "outputs": [],
   "source": [
    "KEY"
   ]
  },
  {
   "cell_type": "code",
   "execution_count": null,
   "metadata": {},
   "outputs": [],
   "source": [
    "# the foundation for a URL\n",
    "def construct_base_url(bible, format):\n",
    "    \"\"\"Return the base URL for BIBLE and format. \n",
    "    BIBLE is 'KJV' or 'LEB'\n",
    "    format is 'xml' or 'json' or 'txt'\n",
    "    \"\"\"\n",
    "    base_url = 'http://api.biblia.com/v1/bible/content/'\n",
    "    url = base_url + bible + '.' + format\n",
    "    return url"
   ]
  },
  {
   "cell_type": "code",
   "execution_count": null,
   "metadata": {},
   "outputs": [],
   "source": [
    "base = construct_base_url('LEB', 'txt')\n",
    "base"
   ]
  },
  {
   "cell_type": "code",
   "execution_count": null,
   "metadata": {},
   "outputs": [],
   "source": [
    "def construct_url(base_url, passage, apikey=KEY):\n",
    "    \"\"\"Ensure URL, PASSAGE, and APIKEY are properly combined and\n",
    "    encoded for opening a resource. Assumes the Bible version and\n",
    "    return type are already in URL.\n",
    "    \"\"\"\n",
    "    return base_url + '?' + urllib.parse.urlencode({'passage': passage,\n",
    "                                                    'key': apikey})"
   ]
  },
  {
   "cell_type": "code",
   "execution_count": null,
   "metadata": {},
   "outputs": [],
   "source": [
    "url = construct_url(base, 'Mk4:1-9')\n",
    "url"
   ]
  },
  {
   "cell_type": "code",
   "execution_count": null,
   "metadata": {},
   "outputs": [],
   "source": [
    "# get the content from the URL\n",
    "def fetch_url(url):\n",
    "    req = urllib.request.urlopen(url)\n",
    "    return req.read()"
   ]
  },
  {
   "cell_type": "code",
   "execution_count": null,
   "metadata": {},
   "outputs": [],
   "source": [
    "content = fetch_url(url)\n",
    "content"
   ]
  },
  {
   "cell_type": "code",
   "execution_count": null,
   "metadata": {},
   "outputs": [],
   "source": [
    "content.decode('utf-8')"
   ]
  },
  {
   "cell_type": "markdown",
   "metadata": {},
   "source": [
    "## Discussion: How Far Do We Want To Go?\n",
    "---"
   ]
  },
  {
   "cell_type": "markdown",
   "metadata": {},
   "source": [
    "## Homework\n",
    "---\n",
    "\n",
    "* Read Chapter 14 and do the exercises. "
   ]
  }
 ],
 "metadata": {
  "kernelspec": {
   "display_name": "Python 3",
   "language": "python",
   "name": "python3"
  },
  "language_info": {
   "codemirror_mode": {
    "name": "ipython",
    "version": 3
   },
   "file_extension": ".py",
   "mimetype": "text/x-python",
   "name": "python",
   "nbconvert_exporter": "python",
   "pygments_lexer": "ipython3",
   "version": "3.7.3"
  }
 },
 "nbformat": 4,
 "nbformat_minor": 2
}
